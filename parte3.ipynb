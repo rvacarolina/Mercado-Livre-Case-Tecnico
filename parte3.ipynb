{
 "cells": [
  {
   "attachments": {},
   "cell_type": "markdown",
   "metadata": {},
   "source": [
    "# Importando as bibliotecas"
   ]
  },
  {
   "cell_type": "code",
   "execution_count": 1,
   "metadata": {},
   "outputs": [],
   "source": [
    "import pandas as pd\n",
    "import numpy as np\n",
    "import seaborn as sns\n",
    "import matplotlib.pyplot as plt\n",
    "from sklearn.preprocessing import StandardScaler\n",
    "from collections import Counter\n",
    "from sklearn.model_selection import train_test_split\n",
    "from xgboost.sklearn import XGBClassifier\n",
    "import xgboost as xgb\n",
    "import optuna\n",
    "from optuna.integration import XGBoostPruningCallback\n",
    "from sklearn import metrics\n",
    "import pickle"
   ]
  },
  {
   "attachments": {},
   "cell_type": "markdown",
   "metadata": {},
   "source": [
    "# Carregando os dados"
   ]
  },
  {
   "cell_type": "code",
   "execution_count": 2,
   "metadata": {},
   "outputs": [],
   "source": [
    "data = pd.read_csv('Teste Técnico - DS\\\\Teste Te╠ücnico - DS\\\\full_devices.csv', encoding='latin-1')"
   ]
  },
  {
   "cell_type": "code",
   "execution_count": 3,
   "metadata": {},
   "outputs": [
    {
     "data": {
      "text/html": [
       "<div>\n",
       "<style scoped>\n",
       "    .dataframe tbody tr th:only-of-type {\n",
       "        vertical-align: middle;\n",
       "    }\n",
       "\n",
       "    .dataframe tbody tr th {\n",
       "        vertical-align: top;\n",
       "    }\n",
       "\n",
       "    .dataframe thead th {\n",
       "        text-align: right;\n",
       "    }\n",
       "</style>\n",
       "<table border=\"1\" class=\"dataframe\">\n",
       "  <thead>\n",
       "    <tr style=\"text-align: right;\">\n",
       "      <th></th>\n",
       "      <th>date</th>\n",
       "      <th>device</th>\n",
       "      <th>failure</th>\n",
       "      <th>attribute1</th>\n",
       "      <th>attribute2</th>\n",
       "      <th>attribute3</th>\n",
       "      <th>attribute4</th>\n",
       "      <th>attribute5</th>\n",
       "      <th>attribute6</th>\n",
       "      <th>attribute7</th>\n",
       "      <th>attribute8</th>\n",
       "      <th>attribute9</th>\n",
       "    </tr>\n",
       "  </thead>\n",
       "  <tbody>\n",
       "    <tr>\n",
       "      <th>0</th>\n",
       "      <td>2015-01-01</td>\n",
       "      <td>S1F01085</td>\n",
       "      <td>0</td>\n",
       "      <td>215630672</td>\n",
       "      <td>56</td>\n",
       "      <td>0</td>\n",
       "      <td>52</td>\n",
       "      <td>6</td>\n",
       "      <td>407438</td>\n",
       "      <td>0</td>\n",
       "      <td>0</td>\n",
       "      <td>7</td>\n",
       "    </tr>\n",
       "    <tr>\n",
       "      <th>1</th>\n",
       "      <td>2015-01-01</td>\n",
       "      <td>S1F0166B</td>\n",
       "      <td>0</td>\n",
       "      <td>61370680</td>\n",
       "      <td>0</td>\n",
       "      <td>3</td>\n",
       "      <td>0</td>\n",
       "      <td>6</td>\n",
       "      <td>403174</td>\n",
       "      <td>0</td>\n",
       "      <td>0</td>\n",
       "      <td>0</td>\n",
       "    </tr>\n",
       "    <tr>\n",
       "      <th>2</th>\n",
       "      <td>2015-01-01</td>\n",
       "      <td>S1F01E6Y</td>\n",
       "      <td>0</td>\n",
       "      <td>173295968</td>\n",
       "      <td>0</td>\n",
       "      <td>0</td>\n",
       "      <td>0</td>\n",
       "      <td>12</td>\n",
       "      <td>237394</td>\n",
       "      <td>0</td>\n",
       "      <td>0</td>\n",
       "      <td>0</td>\n",
       "    </tr>\n",
       "    <tr>\n",
       "      <th>3</th>\n",
       "      <td>2015-01-01</td>\n",
       "      <td>S1F01JE0</td>\n",
       "      <td>0</td>\n",
       "      <td>79694024</td>\n",
       "      <td>0</td>\n",
       "      <td>0</td>\n",
       "      <td>0</td>\n",
       "      <td>6</td>\n",
       "      <td>410186</td>\n",
       "      <td>0</td>\n",
       "      <td>0</td>\n",
       "      <td>0</td>\n",
       "    </tr>\n",
       "    <tr>\n",
       "      <th>4</th>\n",
       "      <td>2015-01-01</td>\n",
       "      <td>S1F01R2B</td>\n",
       "      <td>0</td>\n",
       "      <td>135970480</td>\n",
       "      <td>0</td>\n",
       "      <td>0</td>\n",
       "      <td>0</td>\n",
       "      <td>15</td>\n",
       "      <td>313173</td>\n",
       "      <td>0</td>\n",
       "      <td>0</td>\n",
       "      <td>3</td>\n",
       "    </tr>\n",
       "    <tr>\n",
       "      <th>...</th>\n",
       "      <td>...</td>\n",
       "      <td>...</td>\n",
       "      <td>...</td>\n",
       "      <td>...</td>\n",
       "      <td>...</td>\n",
       "      <td>...</td>\n",
       "      <td>...</td>\n",
       "      <td>...</td>\n",
       "      <td>...</td>\n",
       "      <td>...</td>\n",
       "      <td>...</td>\n",
       "      <td>...</td>\n",
       "    </tr>\n",
       "    <tr>\n",
       "      <th>124489</th>\n",
       "      <td>2015-11-02</td>\n",
       "      <td>Z1F0MA1S</td>\n",
       "      <td>0</td>\n",
       "      <td>18310224</td>\n",
       "      <td>0</td>\n",
       "      <td>0</td>\n",
       "      <td>0</td>\n",
       "      <td>10</td>\n",
       "      <td>353705</td>\n",
       "      <td>8</td>\n",
       "      <td>8</td>\n",
       "      <td>0</td>\n",
       "    </tr>\n",
       "    <tr>\n",
       "      <th>124490</th>\n",
       "      <td>2015-11-02</td>\n",
       "      <td>Z1F0Q8RT</td>\n",
       "      <td>0</td>\n",
       "      <td>172556680</td>\n",
       "      <td>96</td>\n",
       "      <td>107</td>\n",
       "      <td>4</td>\n",
       "      <td>11</td>\n",
       "      <td>332792</td>\n",
       "      <td>0</td>\n",
       "      <td>0</td>\n",
       "      <td>13</td>\n",
       "    </tr>\n",
       "    <tr>\n",
       "      <th>124491</th>\n",
       "      <td>2015-11-02</td>\n",
       "      <td>Z1F0QK05</td>\n",
       "      <td>0</td>\n",
       "      <td>19029120</td>\n",
       "      <td>4832</td>\n",
       "      <td>0</td>\n",
       "      <td>0</td>\n",
       "      <td>11</td>\n",
       "      <td>350410</td>\n",
       "      <td>0</td>\n",
       "      <td>0</td>\n",
       "      <td>0</td>\n",
       "    </tr>\n",
       "    <tr>\n",
       "      <th>124492</th>\n",
       "      <td>2015-11-02</td>\n",
       "      <td>Z1F0QL3N</td>\n",
       "      <td>0</td>\n",
       "      <td>226953408</td>\n",
       "      <td>0</td>\n",
       "      <td>0</td>\n",
       "      <td>0</td>\n",
       "      <td>12</td>\n",
       "      <td>358980</td>\n",
       "      <td>0</td>\n",
       "      <td>0</td>\n",
       "      <td>0</td>\n",
       "    </tr>\n",
       "    <tr>\n",
       "      <th>124493</th>\n",
       "      <td>2015-11-02</td>\n",
       "      <td>Z1F0QLC1</td>\n",
       "      <td>0</td>\n",
       "      <td>17572840</td>\n",
       "      <td>0</td>\n",
       "      <td>0</td>\n",
       "      <td>0</td>\n",
       "      <td>10</td>\n",
       "      <td>351431</td>\n",
       "      <td>0</td>\n",
       "      <td>0</td>\n",
       "      <td>0</td>\n",
       "    </tr>\n",
       "  </tbody>\n",
       "</table>\n",
       "<p>124494 rows × 12 columns</p>\n",
       "</div>"
      ],
      "text/plain": [
       "              date    device  failure  attribute1  attribute2  attribute3  \\\n",
       "0       2015-01-01  S1F01085        0   215630672          56           0   \n",
       "1       2015-01-01  S1F0166B        0    61370680           0           3   \n",
       "2       2015-01-01  S1F01E6Y        0   173295968           0           0   \n",
       "3       2015-01-01  S1F01JE0        0    79694024           0           0   \n",
       "4       2015-01-01  S1F01R2B        0   135970480           0           0   \n",
       "...            ...       ...      ...         ...         ...         ...   \n",
       "124489  2015-11-02  Z1F0MA1S        0    18310224           0           0   \n",
       "124490  2015-11-02  Z1F0Q8RT        0   172556680          96         107   \n",
       "124491  2015-11-02  Z1F0QK05        0    19029120        4832           0   \n",
       "124492  2015-11-02  Z1F0QL3N        0   226953408           0           0   \n",
       "124493  2015-11-02  Z1F0QLC1        0    17572840           0           0   \n",
       "\n",
       "        attribute4  attribute5  attribute6  attribute7  attribute8  attribute9  \n",
       "0               52           6      407438           0           0           7  \n",
       "1                0           6      403174           0           0           0  \n",
       "2                0          12      237394           0           0           0  \n",
       "3                0           6      410186           0           0           0  \n",
       "4                0          15      313173           0           0           3  \n",
       "...            ...         ...         ...         ...         ...         ...  \n",
       "124489           0          10      353705           8           8           0  \n",
       "124490           4          11      332792           0           0          13  \n",
       "124491           0          11      350410           0           0           0  \n",
       "124492           0          12      358980           0           0           0  \n",
       "124493           0          10      351431           0           0           0  \n",
       "\n",
       "[124494 rows x 12 columns]"
      ]
     },
     "execution_count": 3,
     "metadata": {},
     "output_type": "execute_result"
    }
   ],
   "source": [
    "data"
   ]
  },
  {
   "attachments": {},
   "cell_type": "markdown",
   "metadata": {},
   "source": [
    "# Análise Exploratória dos Dados (EDA) e Feature Engineering"
   ]
  },
  {
   "attachments": {},
   "cell_type": "markdown",
   "metadata": {},
   "source": [
    "Temos 12 colunas, sendo 10 numéricas e 2 categóricas e de data."
   ]
  },
  {
   "cell_type": "code",
   "execution_count": 4,
   "metadata": {},
   "outputs": [
    {
     "name": "stdout",
     "output_type": "stream",
     "text": [
      "<class 'pandas.core.frame.DataFrame'>\n",
      "RangeIndex: 124494 entries, 0 to 124493\n",
      "Data columns (total 12 columns):\n",
      " #   Column      Non-Null Count   Dtype \n",
      "---  ------      --------------   ----- \n",
      " 0   date        124494 non-null  object\n",
      " 1   device      124494 non-null  object\n",
      " 2   failure     124494 non-null  int64 \n",
      " 3   attribute1  124494 non-null  int64 \n",
      " 4   attribute2  124494 non-null  int64 \n",
      " 5   attribute3  124494 non-null  int64 \n",
      " 6   attribute4  124494 non-null  int64 \n",
      " 7   attribute5  124494 non-null  int64 \n",
      " 8   attribute6  124494 non-null  int64 \n",
      " 9   attribute7  124494 non-null  int64 \n",
      " 10  attribute8  124494 non-null  int64 \n",
      " 11  attribute9  124494 non-null  int64 \n",
      "dtypes: int64(10), object(2)\n",
      "memory usage: 11.4+ MB\n"
     ]
    }
   ],
   "source": [
    "data.info()"
   ]
  },
  {
   "attachments": {},
   "cell_type": "markdown",
   "metadata": {},
   "source": [
    "Não temos dados faltantes"
   ]
  },
  {
   "cell_type": "code",
   "execution_count": 5,
   "metadata": {},
   "outputs": [
    {
     "data": {
      "text/plain": [
       "date          0\n",
       "device        0\n",
       "failure       0\n",
       "attribute1    0\n",
       "attribute2    0\n",
       "attribute3    0\n",
       "attribute4    0\n",
       "attribute5    0\n",
       "attribute6    0\n",
       "attribute7    0\n",
       "attribute8    0\n",
       "attribute9    0\n",
       "dtype: int64"
      ]
     },
     "execution_count": 5,
     "metadata": {},
     "output_type": "execute_result"
    }
   ],
   "source": [
    "data.isnull().sum()"
   ]
  },
  {
   "cell_type": "code",
   "execution_count": 6,
   "metadata": {},
   "outputs": [
    {
     "data": {
      "text/plain": [
       "0    124388\n",
       "1       106\n",
       "Name: failure, dtype: int64"
      ]
     },
     "execution_count": 6,
     "metadata": {},
     "output_type": "execute_result"
    }
   ],
   "source": [
    "data.failure.value_counts()"
   ]
  },
  {
   "attachments": {},
   "cell_type": "markdown",
   "metadata": {},
   "source": [
    "Apenas 0.085% dos dados são falhas, então os dados são extremamente desbalanceados"
   ]
  },
  {
   "cell_type": "code",
   "execution_count": 9,
   "metadata": {},
   "outputs": [
    {
     "data": {
      "text/plain": [
       "0.000851446656063746"
      ]
     },
     "execution_count": 9,
     "metadata": {},
     "output_type": "execute_result"
    }
   ],
   "source": [
    "data.failure.value_counts()[1]/data.failure.value_counts().sum()"
   ]
  },
  {
   "attachments": {},
   "cell_type": "markdown",
   "metadata": {},
   "source": [
    "Temos 1169 dispositivos diferentes.\\\n",
    "A frequência em que eles aparecem nos dados varia."
   ]
  },
  {
   "cell_type": "code",
   "execution_count": 10,
   "metadata": {},
   "outputs": [
    {
     "data": {
      "text/plain": [
       "Z1F0QLC1    304\n",
       "S1F0KYCR    304\n",
       "S1F0E9EP    304\n",
       "S1F0EGMT    304\n",
       "S1F0FGBQ    304\n",
       "           ... \n",
       "W1F1CHZK      5\n",
       "W1F1CJKT      5\n",
       "S1F04KSC      4\n",
       "W1F0WJFT      3\n",
       "W1F1DA5ÿ      1\n",
       "Name: device, Length: 1169, dtype: int64"
      ]
     },
     "execution_count": 10,
     "metadata": {},
     "output_type": "execute_result"
    }
   ],
   "source": [
    "data.device.value_counts()"
   ]
  },
  {
   "attachments": {},
   "cell_type": "markdown",
   "metadata": {},
   "source": [
    "Temos dados dos atributos de 304 dias"
   ]
  },
  {
   "cell_type": "code",
   "execution_count": 11,
   "metadata": {},
   "outputs": [
    {
     "data": {
      "text/plain": [
       "2015-01-01    1163\n",
       "2015-01-02    1163\n",
       "2015-01-03    1163\n",
       "2015-01-04    1162\n",
       "2015-01-05    1161\n",
       "              ... \n",
       "2015-10-27      31\n",
       "2015-10-29      31\n",
       "2015-10-30      31\n",
       "2015-10-31      31\n",
       "2015-11-02      31\n",
       "Name: date, Length: 304, dtype: int64"
      ]
     },
     "execution_count": 11,
     "metadata": {},
     "output_type": "execute_result"
    }
   ],
   "source": [
    "data.date.value_counts()"
   ]
  },
  {
   "attachments": {},
   "cell_type": "markdown",
   "metadata": {},
   "source": [
    "Vamos converter a coluna com as datas para a formato datetime."
   ]
  },
  {
   "cell_type": "code",
   "execution_count": 12,
   "metadata": {},
   "outputs": [],
   "source": [
    "data['date'] = pd.to_datetime(data['date'])"
   ]
  },
  {
   "attachments": {},
   "cell_type": "markdown",
   "metadata": {},
   "source": [
    "Extraindo informações de tempo."
   ]
  },
  {
   "cell_type": "code",
   "execution_count": 35,
   "metadata": {},
   "outputs": [],
   "source": [
    "data['month'] = data.date.dt.month\n",
    "data['year'] = data.date.dt.year\n",
    "data['day'] = data.date.dt.day\n",
    "data['weekday'] = data.date.dt.weekday\n",
    "data['device_active_days']=data.date-data.date[0]"
   ]
  },
  {
   "attachments": {},
   "cell_type": "markdown",
   "metadata": {},
   "source": [
    "Temos dispositivos ativos 105 dias em média."
   ]
  },
  {
   "cell_type": "code",
   "execution_count": 38,
   "metadata": {},
   "outputs": [
    {
     "data": {
      "text/plain": [
       "count                         124494\n",
       "mean     105 days 05:20:49.737336740\n",
       "std       78 days 09:53:22.062814279\n",
       "min                  0 days 00:00:00\n",
       "25%                 39 days 00:00:00\n",
       "50%                 85 days 00:00:00\n",
       "75%                167 days 00:00:00\n",
       "max                305 days 00:00:00\n",
       "Name: device_active_days, dtype: object"
      ]
     },
     "execution_count": 38,
     "metadata": {},
     "output_type": "execute_result"
    }
   ],
   "source": [
    "data['device_active_days'].describe()"
   ]
  },
  {
   "cell_type": "code",
   "execution_count": 25,
   "metadata": {},
   "outputs": [],
   "source": [
    "attrib_columns = data.columns.tolist()[3:12]"
   ]
  },
  {
   "attachments": {},
   "cell_type": "markdown",
   "metadata": {},
   "source": [
    "A quantidade de dispositivos foi diminuindo com o passar dos meses, indicando a desativação deles."
   ]
  },
  {
   "cell_type": "code",
   "execution_count": 51,
   "metadata": {},
   "outputs": [
    {
     "data": {
      "text/html": [
       "<div>\n",
       "<style scoped>\n",
       "    .dataframe tbody tr th:only-of-type {\n",
       "        vertical-align: middle;\n",
       "    }\n",
       "\n",
       "    .dataframe tbody tr th {\n",
       "        vertical-align: top;\n",
       "    }\n",
       "\n",
       "    .dataframe thead th {\n",
       "        text-align: right;\n",
       "    }\n",
       "</style>\n",
       "<table border=\"1\" class=\"dataframe\">\n",
       "  <thead>\n",
       "    <tr style=\"text-align: right;\">\n",
       "      <th></th>\n",
       "      <th>device</th>\n",
       "    </tr>\n",
       "    <tr>\n",
       "      <th>month</th>\n",
       "      <th></th>\n",
       "    </tr>\n",
       "  </thead>\n",
       "  <tbody>\n",
       "    <tr>\n",
       "      <th>1</th>\n",
       "      <td>1164</td>\n",
       "    </tr>\n",
       "    <tr>\n",
       "      <th>2</th>\n",
       "      <td>726</td>\n",
       "    </tr>\n",
       "    <tr>\n",
       "      <th>3</th>\n",
       "      <td>685</td>\n",
       "    </tr>\n",
       "    <tr>\n",
       "      <th>4</th>\n",
       "      <td>491</td>\n",
       "    </tr>\n",
       "    <tr>\n",
       "      <th>5</th>\n",
       "      <td>424</td>\n",
       "    </tr>\n",
       "    <tr>\n",
       "      <th>6</th>\n",
       "      <td>353</td>\n",
       "    </tr>\n",
       "    <tr>\n",
       "      <th>7</th>\n",
       "      <td>346</td>\n",
       "    </tr>\n",
       "    <tr>\n",
       "      <th>8</th>\n",
       "      <td>334</td>\n",
       "    </tr>\n",
       "    <tr>\n",
       "      <th>9</th>\n",
       "      <td>184</td>\n",
       "    </tr>\n",
       "    <tr>\n",
       "      <th>10</th>\n",
       "      <td>146</td>\n",
       "    </tr>\n",
       "    <tr>\n",
       "      <th>11</th>\n",
       "      <td>31</td>\n",
       "    </tr>\n",
       "  </tbody>\n",
       "</table>\n",
       "</div>"
      ],
      "text/plain": [
       "       device\n",
       "month        \n",
       "1        1164\n",
       "2         726\n",
       "3         685\n",
       "4         491\n",
       "5         424\n",
       "6         353\n",
       "7         346\n",
       "8         334\n",
       "9         184\n",
       "10        146\n",
       "11         31"
      ]
     },
     "execution_count": 51,
     "metadata": {},
     "output_type": "execute_result"
    }
   ],
   "source": [
    "data.groupby('month').agg({'device':lambda x: x.nunique()})"
   ]
  },
  {
   "attachments": {},
   "cell_type": "markdown",
   "metadata": {},
   "source": [
    "Criando coluna para indicar a última data de determinado dispositivo."
   ]
  },
  {
   "cell_type": "code",
   "execution_count": 53,
   "metadata": {},
   "outputs": [],
   "source": [
    "data['device_last_date'] = data.device.map(data.groupby('device').agg({'date':max}).date.to_dict())"
   ]
  },
  {
   "attachments": {},
   "cell_type": "markdown",
   "metadata": {},
   "source": [
    "Apenas 4 dispositivos retornaram ao uso após falha. Então todos os outros dispositivos que falharam tiveram seu uso descontinuado."
   ]
  },
  {
   "cell_type": "code",
   "execution_count": 64,
   "metadata": {},
   "outputs": [
    {
     "data": {
      "text/html": [
       "<div>\n",
       "<style scoped>\n",
       "    .dataframe tbody tr th:only-of-type {\n",
       "        vertical-align: middle;\n",
       "    }\n",
       "\n",
       "    .dataframe tbody tr th {\n",
       "        vertical-align: top;\n",
       "    }\n",
       "\n",
       "    .dataframe thead th {\n",
       "        text-align: right;\n",
       "    }\n",
       "</style>\n",
       "<table border=\"1\" class=\"dataframe\">\n",
       "  <thead>\n",
       "    <tr style=\"text-align: right;\">\n",
       "      <th></th>\n",
       "      <th>date</th>\n",
       "      <th>device</th>\n",
       "      <th>failure</th>\n",
       "      <th>attribute1</th>\n",
       "      <th>attribute2</th>\n",
       "      <th>attribute3</th>\n",
       "      <th>attribute4</th>\n",
       "      <th>attribute5</th>\n",
       "      <th>attribute6</th>\n",
       "      <th>attribute7</th>\n",
       "      <th>attribute8</th>\n",
       "      <th>attribute9</th>\n",
       "      <th>month</th>\n",
       "      <th>year</th>\n",
       "      <th>day</th>\n",
       "      <th>weekday</th>\n",
       "      <th>device_active_days</th>\n",
       "      <th>device_last_date</th>\n",
       "    </tr>\n",
       "  </thead>\n",
       "  <tbody>\n",
       "    <tr>\n",
       "      <th>77958</th>\n",
       "      <td>2015-05-05</td>\n",
       "      <td>S1F136J0</td>\n",
       "      <td>1</td>\n",
       "      <td>131519808</td>\n",
       "      <td>0</td>\n",
       "      <td>0</td>\n",
       "      <td>25</td>\n",
       "      <td>16</td>\n",
       "      <td>343464</td>\n",
       "      <td>8</td>\n",
       "      <td>8</td>\n",
       "      <td>0</td>\n",
       "      <td>5</td>\n",
       "      <td>2015</td>\n",
       "      <td>5</td>\n",
       "      <td>1</td>\n",
       "      <td>124 days</td>\n",
       "      <td>2015-05-06</td>\n",
       "    </tr>\n",
       "    <tr>\n",
       "      <th>79590</th>\n",
       "      <td>2015-05-09</td>\n",
       "      <td>W1F0KCP2</td>\n",
       "      <td>1</td>\n",
       "      <td>176861128</td>\n",
       "      <td>10392</td>\n",
       "      <td>0</td>\n",
       "      <td>121</td>\n",
       "      <td>6</td>\n",
       "      <td>310699</td>\n",
       "      <td>0</td>\n",
       "      <td>0</td>\n",
       "      <td>0</td>\n",
       "      <td>5</td>\n",
       "      <td>2015</td>\n",
       "      <td>9</td>\n",
       "      <td>5</td>\n",
       "      <td>128 days</td>\n",
       "      <td>2015-05-11</td>\n",
       "    </tr>\n",
       "    <tr>\n",
       "      <th>79601</th>\n",
       "      <td>2015-05-09</td>\n",
       "      <td>W1F0M35B</td>\n",
       "      <td>1</td>\n",
       "      <td>141805096</td>\n",
       "      <td>0</td>\n",
       "      <td>0</td>\n",
       "      <td>1</td>\n",
       "      <td>7</td>\n",
       "      <td>267203</td>\n",
       "      <td>0</td>\n",
       "      <td>0</td>\n",
       "      <td>0</td>\n",
       "      <td>5</td>\n",
       "      <td>2015</td>\n",
       "      <td>9</td>\n",
       "      <td>5</td>\n",
       "      <td>128 days</td>\n",
       "      <td>2015-05-11</td>\n",
       "    </tr>\n",
       "    <tr>\n",
       "      <th>101999</th>\n",
       "      <td>2015-07-12</td>\n",
       "      <td>S1F0GPFZ</td>\n",
       "      <td>1</td>\n",
       "      <td>236544080</td>\n",
       "      <td>0</td>\n",
       "      <td>0</td>\n",
       "      <td>0</td>\n",
       "      <td>9</td>\n",
       "      <td>264594</td>\n",
       "      <td>0</td>\n",
       "      <td>0</td>\n",
       "      <td>0</td>\n",
       "      <td>7</td>\n",
       "      <td>2015</td>\n",
       "      <td>12</td>\n",
       "      <td>6</td>\n",
       "      <td>192 days</td>\n",
       "      <td>2015-07-24</td>\n",
       "    </tr>\n",
       "    <tr>\n",
       "      <th>104223</th>\n",
       "      <td>2015-07-18</td>\n",
       "      <td>W1F11ZG9</td>\n",
       "      <td>1</td>\n",
       "      <td>32671632</td>\n",
       "      <td>368</td>\n",
       "      <td>9</td>\n",
       "      <td>486</td>\n",
       "      <td>3</td>\n",
       "      <td>344433</td>\n",
       "      <td>0</td>\n",
       "      <td>0</td>\n",
       "      <td>1</td>\n",
       "      <td>7</td>\n",
       "      <td>2015</td>\n",
       "      <td>18</td>\n",
       "      <td>5</td>\n",
       "      <td>198 days</td>\n",
       "      <td>2015-08-17</td>\n",
       "    </tr>\n",
       "  </tbody>\n",
       "</table>\n",
       "</div>"
      ],
      "text/plain": [
       "             date    device  failure  attribute1  attribute2  attribute3  \\\n",
       "77958  2015-05-05  S1F136J0        1   131519808           0           0   \n",
       "79590  2015-05-09  W1F0KCP2        1   176861128       10392           0   \n",
       "79601  2015-05-09  W1F0M35B        1   141805096           0           0   \n",
       "101999 2015-07-12  S1F0GPFZ        1   236544080           0           0   \n",
       "104223 2015-07-18  W1F11ZG9        1    32671632         368           9   \n",
       "\n",
       "        attribute4  attribute5  attribute6  attribute7  attribute8  \\\n",
       "77958           25          16      343464           8           8   \n",
       "79590          121           6      310699           0           0   \n",
       "79601            1           7      267203           0           0   \n",
       "101999           0           9      264594           0           0   \n",
       "104223         486           3      344433           0           0   \n",
       "\n",
       "        attribute9  month  year  day  weekday device_active_days  \\\n",
       "77958            0      5  2015    5        1           124 days   \n",
       "79590            0      5  2015    9        5           128 days   \n",
       "79601            0      5  2015    9        5           128 days   \n",
       "101999           0      7  2015   12        6           192 days   \n",
       "104223           1      7  2015   18        5           198 days   \n",
       "\n",
       "       device_last_date  \n",
       "77958        2015-05-06  \n",
       "79590        2015-05-11  \n",
       "79601        2015-05-11  \n",
       "101999       2015-07-24  \n",
       "104223       2015-08-17  "
      ]
     },
     "execution_count": 64,
     "metadata": {},
     "output_type": "execute_result"
    }
   ],
   "source": [
    "fail_return = data[(data['failure']==1)&(data['date']<data['device_last_date'])]\n",
    "fail_return"
   ]
  },
  {
   "attachments": {},
   "cell_type": "markdown",
   "metadata": {},
   "source": [
    "Então, para os dispositivos que já falharam antes, vamos criar uma coluna para indicar que já houve falha."
   ]
  },
  {
   "cell_type": "code",
   "execution_count": 79,
   "metadata": {},
   "outputs": [],
   "source": [
    "data['failed_past'] = pd.Series(np.zeros(data.shape[0]))"
   ]
  },
  {
   "cell_type": "code",
   "execution_count": 85,
   "metadata": {},
   "outputs": [],
   "source": [
    "for device in fail_return['device'].tolist():\n",
    "    data.loc[data['device']==device,'failed_past'] = 1"
   ]
  },
  {
   "attachments": {},
   "cell_type": "markdown",
   "metadata": {},
   "source": [
    "Vamos fazer os gráficos das séries temporais de cada atributo para analisar seu comportamento"
   ]
  },
  {
   "cell_type": "code",
   "execution_count": 26,
   "metadata": {},
   "outputs": [
    {
     "data": {
      "image/png": "[encoded data removed]",
      "text/plain": [
       "<Figure size 1152x576 with 1 Axes>"
      ]
     },
     "metadata": {
      "needs_background": "light"
     },
     "output_type": "display_data"
    },
    {
     "data": {
      "image/png": "[encoded data removed]",
      "text/plain": [
       "<Figure size 1152x576 with 1 Axes>"
      ]
     },
     "metadata": {
      "needs_background": "light"
     },
     "output_type": "display_data"
    },
    {
     "data": {
      "image/png": "[encoded data removed]",
      "text/plain": [
       "<Figure size 1152x576 with 1 Axes>"
      ]
     },
     "metadata": {
      "needs_background": "light"
     },
     "output_type": "display_data"
    },
    {
     "data": {
      "image/png": "[encoded data removed]",
      "text/plain": [
       "<Figure size 1152x576 with 1 Axes>"
      ]
     },
     "metadata": {
      "needs_background": "light"
     },
     "output_type": "display_data"
    },
    {
     "data": {
      "image/png": "[encoded data removed]",
      "text/plain": [
       "<Figure size 1152x576 with 1 Axes>"
      ]
     },
     "metadata": {
      "needs_background": "light"
     },
     "output_type": "display_data"
    },
    {
     "data": {
      "image/png": "[encoded data removed]",
      "text/plain": [
       "<Figure size 1152x576 with 1 Axes>"
      ]
     },
     "metadata": {
      "needs_background": "light"
     },
     "output_type": "display_data"
    },
    {
     "data": {
      "image/png": "[encoded data removed]",
      "text/plain": [
       "<Figure size 1152x576 with 1 Axes>"
      ]
     },
     "metadata": {
      "needs_background": "light"
     },
     "output_type": "display_data"
    },
    {
     "data": {
      "image/png": "[encoded data removed]",
      "text/plain": [
       "<Figure size 1152x576 with 1 Axes>"
      ]
     },
     "metadata": {
      "needs_background": "light"
     },
     "output_type": "display_data"
    },
    {
     "data": {
      "image/png": "[encoded data removed]",
      "text/plain": [
       "<Figure size 1152x576 with 1 Axes>"
      ]
     },
     "metadata": {
      "needs_background": "light"
     },
     "output_type": "display_data"
    }
   ],
   "source": [
    "for attrib in attrib_columns  :  \n",
    "    plt.figure(figsize=(12,8))\n",
    "    sns.lineplot(x = data['date'], y=data[attrib])\n",
    "    plt.title('Time Series - {}'.format(attrib))\n",
    "    plt.show()"
   ]
  },
  {
   "attachments": {},
   "cell_type": "markdown",
   "metadata": {},
   "source": [
    "Os atributos 7 e 8 apresentam um gráfico idêntico, o que deve ser avaliado.\\\n",
    " O atributo 6, por exemplo, parece ter uma tendência crescente, porém também houve uma queda drástica em certo período. \\\n",
    " O atributo 1 parece um ruído branco, porém mais no fim da série sua variância aumenta."
   ]
  },
  {
   "attachments": {},
   "cell_type": "markdown",
   "metadata": {},
   "source": [
    "Concluímos que os atributos 7 e 8 são idênticos."
   ]
  },
  {
   "cell_type": "code",
   "execution_count": 32,
   "metadata": {},
   "outputs": [
    {
     "data": {
      "text/plain": [
       "True    124494\n",
       "dtype: int64"
      ]
     },
     "execution_count": 32,
     "metadata": {},
     "output_type": "execute_result"
    }
   ],
   "source": [
    "(data['attribute7']==data['attribute8']).value_counts()"
   ]
  },
  {
   "attachments": {},
   "cell_type": "markdown",
   "metadata": {},
   "source": [
    "As falhas são mais comuns em Janeiro e Maio. Não houveram falhas em Setembro e Novembro."
   ]
  },
  {
   "cell_type": "code",
   "execution_count": 27,
   "metadata": {},
   "outputs": [
    {
     "data": {
      "text/plain": [
       "month\n",
       "1     24\n",
       "2     14\n",
       "3      9\n",
       "4      9\n",
       "5     21\n",
       "6      6\n",
       "7     16\n",
       "8      4\n",
       "9      0\n",
       "10     3\n",
       "11     0\n",
       "Name: failure, dtype: int64"
      ]
     },
     "execution_count": 27,
     "metadata": {},
     "output_type": "execute_result"
    }
   ],
   "source": [
    "data.groupby('month').sum()['failure']"
   ]
  },
  {
   "cell_type": "code",
   "execution_count": 65,
   "metadata": {},
   "outputs": [
    {
     "data": {
      "text/plain": [
       "<AxesSubplot:xlabel='month', ylabel='count'>"
      ]
     },
     "execution_count": 65,
     "metadata": {},
     "output_type": "execute_result"
    },
    {
     "data": {
      "image/png": "[encoded data removed]",
      "text/plain": [
       "<Figure size 1152x576 with 1 Axes>"
      ]
     },
     "metadata": {
      "needs_background": "light"
     },
     "output_type": "display_data"
    }
   ],
   "source": [
    "plt.figure(figsize=(16,8))\n",
    "sns.countplot(x = data['month'], hue=data['failure'])"
   ]
  },
  {
   "attachments": {},
   "cell_type": "markdown",
   "metadata": {},
   "source": [
    "O dia da semana com mais falhas é Segunda-feira, seguido por Quinta-feira."
   ]
  },
  {
   "cell_type": "code",
   "execution_count": 30,
   "metadata": {},
   "outputs": [
    {
     "data": {
      "text/plain": [
       "weekday\n",
       "0    27\n",
       "1    18\n",
       "2    15\n",
       "3    22\n",
       "4    12\n",
       "5     8\n",
       "6     4\n",
       "Name: failure, dtype: int64"
      ]
     },
     "execution_count": 30,
     "metadata": {},
     "output_type": "execute_result"
    }
   ],
   "source": [
    "data.groupby('weekday').sum()['failure']"
   ]
  },
  {
   "cell_type": "code",
   "execution_count": 66,
   "metadata": {},
   "outputs": [
    {
     "data": {
      "text/plain": [
       "<AxesSubplot:xlabel='weekday', ylabel='count'>"
      ]
     },
     "execution_count": 66,
     "metadata": {},
     "output_type": "execute_result"
    },
    {
     "data": {
      "image/png": "[encoded data removed]",
      "text/plain": [
       "<Figure size 1152x576 with 1 Axes>"
      ]
     },
     "metadata": {
      "needs_background": "light"
     },
     "output_type": "display_data"
    }
   ],
   "source": [
    "plt.figure(figsize=(16,8))\n",
    "sns.countplot(x = data['weekday'], hue=data['failure'])"
   ]
  },
  {
   "attachments": {},
   "cell_type": "markdown",
   "metadata": {},
   "source": [
    "Vamos transformar os dias ativos do tipo datetime para inteiro."
   ]
  },
  {
   "cell_type": "code",
   "execution_count": null,
   "metadata": {},
   "outputs": [],
   "source": [
    "def str_to_num(str):\n",
    "    return str.split(' ')[0]"
   ]
  },
  {
   "cell_type": "code",
   "execution_count": 89,
   "metadata": {},
   "outputs": [],
   "source": [
    "data['device_active_days'] = data['device_active_days'].astype(str)"
   ]
  },
  {
   "cell_type": "code",
   "execution_count": 91,
   "metadata": {},
   "outputs": [],
   "source": [
    "data['device_active_days'] = data['device_active_days'].apply(lambda x: x.split(' ')[0])"
   ]
  },
  {
   "cell_type": "code",
   "execution_count": 92,
   "metadata": {},
   "outputs": [
    {
     "data": {
      "text/plain": [
       "0           0\n",
       "1           0\n",
       "2           0\n",
       "3           0\n",
       "4           0\n",
       "         ... \n",
       "124489    305\n",
       "124490    305\n",
       "124491    305\n",
       "124492    305\n",
       "124493    305\n",
       "Name: device_active_days, Length: 124494, dtype: object"
      ]
     },
     "execution_count": 92,
     "metadata": {},
     "output_type": "execute_result"
    }
   ],
   "source": [
    "data['device_active_days']"
   ]
  },
  {
   "cell_type": "code",
   "execution_count": 93,
   "metadata": {},
   "outputs": [],
   "source": [
    "data['device_active_days'] = data['device_active_days'].astype(int)"
   ]
  },
  {
   "cell_type": "code",
   "execution_count": 94,
   "metadata": {},
   "outputs": [
    {
     "data": {
      "text/plain": [
       "0           0\n",
       "1           0\n",
       "2           0\n",
       "3           0\n",
       "4           0\n",
       "         ... \n",
       "124489    305\n",
       "124490    305\n",
       "124491    305\n",
       "124492    305\n",
       "124493    305\n",
       "Name: device_active_days, Length: 124494, dtype: int32"
      ]
     },
     "execution_count": 94,
     "metadata": {},
     "output_type": "execute_result"
    }
   ],
   "source": [
    "data['device_active_days']"
   ]
  },
  {
   "attachments": {},
   "cell_type": "markdown",
   "metadata": {},
   "source": [
    "Vamos separar os dados em X e Y\\\n",
    "Vamos retirar o atributo 7 e manter o 8"
   ]
  },
  {
   "cell_type": "code",
   "execution_count": 95,
   "metadata": {},
   "outputs": [
    {
     "data": {
      "text/plain": [
       "Index(['date', 'device', 'failure', 'attribute1', 'attribute2', 'attribute3',\n",
       "       'attribute4', 'attribute5', 'attribute6', 'attribute7', 'attribute8',\n",
       "       'attribute9', 'month', 'year', 'day', 'weekday', 'device_active_days',\n",
       "       'device_last_date', 'failed_past'],\n",
       "      dtype='object')"
      ]
     },
     "execution_count": 95,
     "metadata": {},
     "output_type": "execute_result"
    }
   ],
   "source": [
    "data.columns"
   ]
  },
  {
   "cell_type": "code",
   "execution_count": 97,
   "metadata": {},
   "outputs": [
    {
     "data": {
      "text/plain": [
       "Index(['attribute1', 'attribute2', 'attribute3', 'attribute4', 'attribute5',\n",
       "       'attribute6', 'attribute8', 'attribute9', 'device_active_days',\n",
       "       'failed_past'],\n",
       "      dtype='object')"
      ]
     },
     "execution_count": 97,
     "metadata": {},
     "output_type": "execute_result"
    }
   ],
   "source": [
    "X = data.drop(columns=['date','device','failure','device_last_date', 'attribute7', 'month','year','day','weekday'])\n",
    "X.columns"
   ]
  },
  {
   "cell_type": "code",
   "execution_count": 98,
   "metadata": {},
   "outputs": [
    {
     "data": {
      "text/plain": [
       "0         0\n",
       "1         0\n",
       "2         0\n",
       "3         0\n",
       "4         0\n",
       "         ..\n",
       "124489    0\n",
       "124490    0\n",
       "124491    0\n",
       "124492    0\n",
       "124493    0\n",
       "Name: failure, Length: 124494, dtype: int64"
      ]
     },
     "execution_count": 98,
     "metadata": {},
     "output_type": "execute_result"
    }
   ],
   "source": [
    "y = data['failure']\n",
    "y"
   ]
  },
  {
   "attachments": {},
   "cell_type": "markdown",
   "metadata": {},
   "source": [
    "Usando a técnica SMOTEEN que mistura o oversampling e o undersampling para dados desbalanceados."
   ]
  },
  {
   "cell_type": "code",
   "execution_count": 104,
   "metadata": {},
   "outputs": [
    {
     "name": "stdout",
     "output_type": "stream",
     "text": [
      "Resampled dataset shape Counter({1: 93597, 0: 89120})\n"
     ]
    }
   ],
   "source": [
    "from imblearn.combine import SMOTEENN\n",
    "resample = SMOTEENN(random_state=42)\n",
    "X_res, Y_res = resample.fit_resample(X, y)\n",
    "print('Resampled dataset shape %s' % Counter(Y_res))"
   ]
  },
  {
   "attachments": {},
   "cell_type": "markdown",
   "metadata": {},
   "source": [
    "Vamos normalizar os dados usando o Standard Scaler"
   ]
  },
  {
   "cell_type": "code",
   "execution_count": 105,
   "metadata": {},
   "outputs": [],
   "source": [
    "scaler = StandardScaler()\n",
    "X_res_scaler= pd.DataFrame(scaler.fit_transform(X_res.values), columns=X_res.columns, index=X_res.index)"
   ]
  },
  {
   "attachments": {},
   "cell_type": "markdown",
   "metadata": {},
   "source": [
    "Dividindo os dados em treinamento e teste"
   ]
  },
  {
   "cell_type": "code",
   "execution_count": 106,
   "metadata": {},
   "outputs": [],
   "source": [
    "from sklearn.model_selection import train_test_split\n",
    "X_train, X_test, y_train, y_test = train_test_split(X_res_scaler, Y_res, test_size=0.20, random_state=42)"
   ]
  },
  {
   "attachments": {},
   "cell_type": "markdown",
   "metadata": {},
   "source": [
    "# Modelo"
   ]
  },
  {
   "attachments": {},
   "cell_type": "markdown",
   "metadata": {},
   "source": [
    "Foram pesquisados artigos sobre dados desbalanceados e modelos supervisionados e o mas comum encontrado foi o XGBoost, então ele será o foco neste projeto, porém, ainda assim é válido criar outros modelos, como o LightGBM, RandomForest, etc."
   ]
  },
  {
   "attachments": {},
   "cell_type": "markdown",
   "metadata": {},
   "source": [
    "# Hyperparameter Tuning with Optuna"
   ]
  },
  {
   "attachments": {},
   "cell_type": "markdown",
   "metadata": {},
   "source": [
    "A métrica de validação usado é o AUC e visa maximizar o F1-Score."
   ]
  },
  {
   "cell_type": "code",
   "execution_count": 109,
   "metadata": {},
   "outputs": [],
   "source": [
    "def objective(trial):\n",
    "    dtrain = xgb.DMatrix(X_train, label=y_train)\n",
    "    dvalid = xgb.DMatrix(X_test, label=y_test)\n",
    "\n",
    "    param = {\n",
    "        \"verbosity\": 0,\n",
    "        \"objective\": \"binary:logistic\",\n",
    "        \"booster\": trial.suggest_categorical(\"booster\", [\"gbtree\", \"gblinear\", \"dart\"]),\n",
    "        \"lambda\": trial.suggest_float(\"lambda\", 1e-8, 1.0, log=True),\n",
    "        \"alpha\": trial.suggest_float(\"alpha\", 1e-8, 1.0, log=True),\n",
    "        \"subsample\": trial.suggest_float(\"subsample\", 0.2, 1.0),\n",
    "        \"colsample_bytree\": trial.suggest_float(\"colsample_bytree\", 0.2, 1.0),\n",
    "        \"scale_pos_weight\": trial.suggest_float('scale_pos_weight',1,198),\n",
    "        'eval_metric': 'auc'\n",
    "    }\n",
    "\n",
    "    if param[\"booster\"] in [\"gbtree\", \"dart\"]:\n",
    "        param[\"max_depth\"] = trial.suggest_int(\"max_depth\", 3, 9, step=2)\n",
    "        param[\"min_child_weight\"] = trial.suggest_int(\"min_child_weight\", 2, 10)\n",
    "        param[\"eta\"] = trial.suggest_float(\"eta\", 1e-8, 1.0, log=True)\n",
    "        param[\"gamma\"] = trial.suggest_float(\"gamma\", 1e-8, 1.0, log=True)\n",
    "        param[\"grow_policy\"] = trial.suggest_categorical(\"grow_policy\", [\"depthwise\", \"lossguide\"])\n",
    "\n",
    "    if param[\"booster\"] == \"dart\":\n",
    "        param[\"sample_type\"] = trial.suggest_categorical(\"sample_type\", [\"uniform\", \"weighted\"])\n",
    "        param[\"normalize_type\"] = trial.suggest_categorical(\"normalize_type\", [\"tree\", \"forest\"])\n",
    "        param[\"rate_drop\"] = trial.suggest_float(\"rate_drop\", 1e-8, 1.0, log=True)\n",
    "        param[\"skip_drop\"] = trial.suggest_float(\"skip_drop\", 1e-8, 1.0, log=True)\n",
    "\n",
    "\n",
    "    pruning_callback = optuna.integration.XGBoostPruningCallback(trial, \"validation-auc\")\n",
    "    bst = xgb.train(param, dtrain, evals=[(dvalid, \"validation\")], callbacks=[pruning_callback])\n",
    "    preds = bst.predict(dvalid)\n",
    "    pred_labels = np.rint(preds)\n",
    "    f1_score = metrics.f1_score(y_test, pred_labels)\n",
    "    return f1_score"
   ]
  },
  {
   "cell_type": "code",
   "execution_count": 112,
   "metadata": {},
   "outputs": [
    {
     "name": "stderr",
     "output_type": "stream",
     "text": [
      "\u001b[32m[I 2023-02-15 09:37:39,703]\u001b[0m A new study created in memory with name: no-name-71a675be-2cd9-4566-99c3-ab6a8cc9f509\u001b[0m\n"
     ]
    }
   ],
   "source": [
    "study = optuna.create_study(\n",
    "        pruner=optuna.pruners.MedianPruner(n_warmup_steps=5), direction=\"maximize\"\n",
    "    )"
   ]
  },
  {
   "attachments": {},
   "cell_type": "markdown",
   "metadata": {},
   "source": [
    "Vamos rodar 100 trials, o que demora aproximadamente 5 minutos."
   ]
  },
  {
   "cell_type": "code",
   "execution_count": 113,
   "metadata": {},
   "outputs": [
    {
     "name": "stdout",
     "output_type": "stream",
     "text": [
      "[0]\tvalidation-auc:0.73191\n",
      "[1]\tvalidation-auc:0.73889\n",
      "[2]\tvalidation-auc:0.74497\n",
      "[3]\tvalidation-auc:0.75017\n",
      "[4]\tvalidation-auc:0.75559\n",
      "[5]\tvalidation-auc:0.76188\n",
      "[6]\tvalidation-auc:0.76925\n",
      "[7]\tvalidation-auc:0.77704\n",
      "[8]\tvalidation-auc:0.78465\n",
      "[9]\tvalidation-auc:0.79077\n"
     ]
    },
    {
     "name": "stderr",
     "output_type": "stream",
     "text": [
      "\u001b[32m[I 2023-02-15 09:37:59,454]\u001b[0m Trial 0 finished with value: 0.6777385798281321 and parameters: {'booster': 'gblinear', 'lambda': 0.15560403602034104, 'alpha': 5.069631197416086e-06, 'subsample': 0.5559503424870118, 'colsample_bytree': 0.48300168101208957, 'scale_pos_weight': 153.126023688599}. Best is trial 0 with value: 0.6777385798281321.\u001b[0m\n"
     ]
    },
    {
     "name": "stdout",
     "output_type": "stream",
     "text": [
      "[0]\tvalidation-auc:0.90670\n",
      "[1]\tvalidation-auc:0.92948\n",
      "[2]\tvalidation-auc:0.93549\n",
      "[3]\tvalidation-auc:0.96082\n",
      "[4]\tvalidation-auc:0.96393\n",
      "[5]\tvalidation-auc:0.97321\n",
      "[6]\tvalidation-auc:0.97890\n",
      "[7]\tvalidation-auc:0.97778\n",
      "[8]\tvalidation-auc:0.97710\n",
      "[9]\tvalidation-auc:0.97604\n"
     ]
    },
    {
     "name": "stderr",
     "output_type": "stream",
     "text": [
      "\u001b[32m[I 2023-02-15 09:38:00,788]\u001b[0m Trial 1 finished with value: 0.6777385798281321 and parameters: {'booster': 'gbtree', 'lambda': 0.10919262906604688, 'alpha': 0.0006505539515563657, 'subsample': 0.7430116848467427, 'colsample_bytree': 0.28755633068083414, 'scale_pos_weight': 91.35455715392123, 'max_depth': 7, 'min_child_weight': 8, 'eta': 6.465553297842414e-06, 'gamma': 0.0007216424023299722, 'grow_policy': 'depthwise'}. Best is trial 0 with value: 0.6777385798281321.\u001b[0m\n"
     ]
    },
    {
     "name": "stdout",
     "output_type": "stream",
     "text": [
      "[0]\tvalidation-auc:0.86101\n",
      "[1]\tvalidation-auc:0.90673\n",
      "[2]\tvalidation-auc:0.92800\n",
      "[3]\tvalidation-auc:0.93595\n",
      "[4]\tvalidation-auc:0.93646\n",
      "[5]\tvalidation-auc:0.93647\n",
      "[6]\tvalidation-auc:0.93645\n",
      "[7]\tvalidation-auc:0.93637\n",
      "[8]\tvalidation-auc:0.93568\n",
      "[9]\tvalidation-auc:0.93515\n"
     ]
    },
    {
     "name": "stderr",
     "output_type": "stream",
     "text": [
      "\u001b[32m[I 2023-02-15 09:38:01,285]\u001b[0m Trial 2 finished with value: 0.6777385798281321 and parameters: {'booster': 'gblinear', 'lambda': 0.0006561642946657616, 'alpha': 0.7924124308499735, 'subsample': 0.5648180417424866, 'colsample_bytree': 0.5260753832820533, 'scale_pos_weight': 157.0632531501686}. Best is trial 0 with value: 0.6777385798281321.\u001b[0m\n"
     ]
    },
    {
     "name": "stdout",
     "output_type": "stream",
     "text": [
      "[0]\tvalidation-auc:0.97119\n",
      "[1]\tvalidation-auc:0.98444\n",
      "[2]\tvalidation-auc:0.98937\n",
      "[3]\tvalidation-auc:0.99241\n",
      "[4]\tvalidation-auc:0.99196\n",
      "[5]\tvalidation-auc:0.99239\n",
      "[6]\tvalidation-auc:0.99268\n",
      "[7]\tvalidation-auc:0.99309\n",
      "[8]\tvalidation-auc:0.99477\n",
      "[9]\tvalidation-auc:0.99536\n"
     ]
    },
    {
     "name": "stderr",
     "output_type": "stream",
     "text": [
      "\u001b[32m[I 2023-02-15 09:38:03,483]\u001b[0m Trial 3 finished with value: 0.958122221073312 and parameters: {'booster': 'dart', 'lambda': 0.00015801796509077733, 'alpha': 0.0036834496838751567, 'subsample': 0.2720076671443084, 'colsample_bytree': 0.7208080451652965, 'scale_pos_weight': 3.4191790234326103, 'max_depth': 7, 'min_child_weight': 2, 'eta': 1.0443412343142229e-05, 'gamma': 0.06866564707778074, 'grow_policy': 'lossguide', 'sample_type': 'weighted', 'normalize_type': 'tree', 'rate_drop': 5.059227134909231e-08, 'skip_drop': 2.1038015421211913e-06}. Best is trial 3 with value: 0.958122221073312.\u001b[0m\n"
     ]
    },
    {
     "name": "stdout",
     "output_type": "stream",
     "text": [
      "[0]\tvalidation-auc:0.74105\n",
      "[1]\tvalidation-auc:0.74685\n",
      "[2]\tvalidation-auc:0.75328\n",
      "[3]\tvalidation-auc:0.76011\n",
      "[4]\tvalidation-auc:0.76679\n",
      "[5]\tvalidation-auc:0.77331\n",
      "[6]\tvalidation-auc:0.77851\n",
      "[7]\tvalidation-auc:0.78310\n",
      "[8]\tvalidation-auc:0.78630\n",
      "[9]\tvalidation-auc:0.78888\n"
     ]
    },
    {
     "name": "stderr",
     "output_type": "stream",
     "text": [
      "\u001b[32m[I 2023-02-15 09:38:04,150]\u001b[0m Trial 4 finished with value: 0.6777385798281321 and parameters: {'booster': 'gblinear', 'lambda': 0.3461884845607272, 'alpha': 1.1204067893222089e-06, 'subsample': 0.6377024010066276, 'colsample_bytree': 0.5818642821412113, 'scale_pos_weight': 69.68720936571835}. Best is trial 3 with value: 0.958122221073312.\u001b[0m\n"
     ]
    },
    {
     "name": "stdout",
     "output_type": "stream",
     "text": [
      "[0]\tvalidation-auc:0.68084\n",
      "[1]\tvalidation-auc:0.82328\n",
      "[2]\tvalidation-auc:0.97073\n",
      "[3]\tvalidation-auc:0.96868\n",
      "[4]\tvalidation-auc:0.98416\n",
      "[5]\tvalidation-auc:0.98890\n",
      "[6]\tvalidation-auc:0.98945\n",
      "[7]\tvalidation-auc:0.98902\n",
      "[8]\tvalidation-auc:0.98821\n",
      "[9]\tvalidation-auc:0.99089\n"
     ]
    },
    {
     "name": "stderr",
     "output_type": "stream",
     "text": [
      "\u001b[32m[I 2023-02-15 09:38:06,471]\u001b[0m Trial 5 finished with value: 0.7112452772873118 and parameters: {'booster': 'dart', 'lambda': 0.005086275136379805, 'alpha': 4.035253584051864e-05, 'subsample': 0.36147871061260867, 'colsample_bytree': 0.38011874662369166, 'scale_pos_weight': 120.93374036177971, 'max_depth': 9, 'min_child_weight': 10, 'eta': 0.01115969227837535, 'gamma': 1.321492041674017e-06, 'grow_policy': 'lossguide', 'sample_type': 'weighted', 'normalize_type': 'forest', 'rate_drop': 0.02930993128439939, 'skip_drop': 6.037980114251288e-07}. Best is trial 3 with value: 0.958122221073312.\u001b[0m\n"
     ]
    },
    {
     "name": "stdout",
     "output_type": "stream",
     "text": [
      "[0]\tvalidation-auc:0.74242\n",
      "[1]\tvalidation-auc:0.74504\n",
      "[2]\tvalidation-auc:0.74699\n",
      "[3]\tvalidation-auc:0.74925\n",
      "[4]\tvalidation-auc:0.75353\n"
     ]
    },
    {
     "name": "stderr",
     "output_type": "stream",
     "text": [
      "\u001b[32m[I 2023-02-15 09:38:06,799]\u001b[0m Trial 6 pruned. Trial was pruned at iteration 5.\u001b[0m\n"
     ]
    },
    {
     "name": "stdout",
     "output_type": "stream",
     "text": [
      "[0]\tvalidation-auc:0.84985\n",
      "[1]\tvalidation-auc:0.94913\n",
      "[2]\tvalidation-auc:0.98045\n",
      "[3]\tvalidation-auc:0.98005\n",
      "[4]\tvalidation-auc:0.98094\n",
      "[5]\tvalidation-auc:0.98342\n",
      "[6]\tvalidation-auc:0.98608\n",
      "[7]\tvalidation-auc:0.98882\n",
      "[8]\tvalidation-auc:0.98875\n",
      "[9]\tvalidation-auc:0.98829\n"
     ]
    },
    {
     "name": "stderr",
     "output_type": "stream",
     "text": [
      "\u001b[32m[I 2023-02-15 09:38:08,782]\u001b[0m Trial 7 finished with value: 0.6975774165316648 and parameters: {'booster': 'dart', 'lambda': 4.879719200410081e-08, 'alpha': 0.15584743200289597, 'subsample': 0.4292260757670729, 'colsample_bytree': 0.4925393220178528, 'scale_pos_weight': 80.24980395953303, 'max_depth': 7, 'min_child_weight': 6, 'eta': 2.77191554090601e-06, 'gamma': 1.3327537973844403e-06, 'grow_policy': 'depthwise', 'sample_type': 'uniform', 'normalize_type': 'forest', 'rate_drop': 0.2613286651450316, 'skip_drop': 0.7244896311879794}. Best is trial 3 with value: 0.958122221073312.\u001b[0m\n"
     ]
    },
    {
     "name": "stdout",
     "output_type": "stream",
     "text": [
      "[0]\tvalidation-auc:0.90340\n",
      "[1]\tvalidation-auc:0.95819\n",
      "[2]\tvalidation-auc:0.96094\n",
      "[3]\tvalidation-auc:0.96571\n",
      "[4]\tvalidation-auc:0.96659\n",
      "[5]\tvalidation-auc:0.96570\n"
     ]
    },
    {
     "name": "stderr",
     "output_type": "stream",
     "text": [
      "\u001b[32m[I 2023-02-15 09:38:09,452]\u001b[0m Trial 8 pruned. Trial was pruned at iteration 5.\u001b[0m\n"
     ]
    },
    {
     "name": "stdout",
     "output_type": "stream",
     "text": [
      "[0]\tvalidation-auc:0.87556\n",
      "[1]\tvalidation-auc:0.93338\n",
      "[2]\tvalidation-auc:0.96921\n",
      "[3]\tvalidation-auc:0.97581\n",
      "[4]\tvalidation-auc:0.97643\n",
      "[5]\tvalidation-auc:0.97862\n"
     ]
    },
    {
     "name": "stderr",
     "output_type": "stream",
     "text": [
      "\u001b[32m[I 2023-02-15 09:38:10,966]\u001b[0m Trial 9 pruned. Trial was pruned at iteration 6.\u001b[0m\n"
     ]
    },
    {
     "name": "stdout",
     "output_type": "stream",
     "text": [
      "[0]\tvalidation-auc:0.50000\n",
      "[1]\tvalidation-auc:0.50000\n",
      "[2]\tvalidation-auc:0.50000\n",
      "[3]\tvalidation-auc:0.89928\n",
      "[4]\tvalidation-auc:0.91535\n"
     ]
    },
    {
     "name": "stderr",
     "output_type": "stream",
     "text": [
      "\u001b[32m[I 2023-02-15 09:38:11,766]\u001b[0m Trial 10 pruned. Trial was pruned at iteration 5.\u001b[0m\n"
     ]
    },
    {
     "name": "stdout",
     "output_type": "stream",
     "text": [
      "[0]\tvalidation-auc:0.69845\n",
      "[1]\tvalidation-auc:0.83069\n",
      "[2]\tvalidation-auc:0.93319\n",
      "[3]\tvalidation-auc:0.95389\n",
      "[4]\tvalidation-auc:0.96913\n",
      "[5]\tvalidation-auc:0.96862\n"
     ]
    },
    {
     "name": "stderr",
     "output_type": "stream",
     "text": [
      "\u001b[32m[I 2023-02-15 09:38:12,959]\u001b[0m Trial 11 pruned. Trial was pruned at iteration 5.\u001b[0m\n"
     ]
    },
    {
     "name": "stdout",
     "output_type": "stream",
     "text": [
      "[0]\tvalidation-auc:0.94520\n",
      "[1]\tvalidation-auc:0.94252\n",
      "[2]\tvalidation-auc:0.94368\n",
      "[3]\tvalidation-auc:0.96927\n",
      "[4]\tvalidation-auc:0.96979\n"
     ]
    },
    {
     "name": "stderr",
     "output_type": "stream",
     "text": [
      "\u001b[32m[I 2023-02-15 09:38:14,465]\u001b[0m Trial 12 pruned. Trial was pruned at iteration 5.\u001b[0m\n"
     ]
    },
    {
     "name": "stdout",
     "output_type": "stream",
     "text": [
      "[0]\tvalidation-auc:0.71242\n",
      "[1]\tvalidation-auc:0.83181\n",
      "[2]\tvalidation-auc:0.97972\n",
      "[3]\tvalidation-auc:0.97909\n",
      "[4]\tvalidation-auc:0.99076\n",
      "[5]\tvalidation-auc:0.99428\n",
      "[6]\tvalidation-auc:0.99515\n",
      "[7]\tvalidation-auc:0.99627\n",
      "[8]\tvalidation-auc:0.99650\n",
      "[9]\tvalidation-auc:0.99778\n"
     ]
    },
    {
     "name": "stderr",
     "output_type": "stream",
     "text": [
      "\u001b[32m[I 2023-02-15 09:38:16,522]\u001b[0m Trial 13 finished with value: 0.9272169134029806 and parameters: {'booster': 'dart', 'lambda': 0.015972100892563217, 'alpha': 0.0277970538431022, 'subsample': 0.2162137529742084, 'colsample_bytree': 0.3814251669872735, 'scale_pos_weight': 51.25543204168623, 'max_depth': 9, 'min_child_weight': 5, 'eta': 0.5591804484265271, 'gamma': 0.009227588044817953, 'grow_policy': 'lossguide', 'sample_type': 'weighted', 'normalize_type': 'tree', 'rate_drop': 1.7993735945220802e-05, 'skip_drop': 1.3897876394674935e-07}. Best is trial 3 with value: 0.958122221073312.\u001b[0m\n"
     ]
    },
    {
     "name": "stdout",
     "output_type": "stream",
     "text": [
      "[0]\tvalidation-auc:0.95628\n",
      "[1]\tvalidation-auc:0.98066\n",
      "[2]\tvalidation-auc:0.98240\n",
      "[3]\tvalidation-auc:0.98713\n",
      "[4]\tvalidation-auc:0.98736\n",
      "[5]\tvalidation-auc:0.98973\n",
      "[6]\tvalidation-auc:0.99104\n",
      "[7]\tvalidation-auc:0.99253\n",
      "[8]\tvalidation-auc:0.99430\n",
      "[9]\tvalidation-auc:0.99544\n"
     ]
    },
    {
     "name": "stderr",
     "output_type": "stream",
     "text": [
      "\u001b[32m[I 2023-02-15 09:38:18,160]\u001b[0m Trial 14 finished with value: 0.9662874438993843 and parameters: {'booster': 'dart', 'lambda': 0.02383250015463532, 'alpha': 0.02578919926085647, 'subsample': 0.21409960671622402, 'colsample_bytree': 0.6945321440812953, 'scale_pos_weight': 2.734533266677744, 'max_depth': 5, 'min_child_weight': 4, 'eta': 0.39473815289613223, 'gamma': 0.026063770799840666, 'grow_policy': 'lossguide', 'sample_type': 'weighted', 'normalize_type': 'tree', 'rate_drop': 3.1660113269292503e-06, 'skip_drop': 1.9146460065099147e-08}. Best is trial 14 with value: 0.9662874438993843.\u001b[0m\n"
     ]
    },
    {
     "name": "stdout",
     "output_type": "stream",
     "text": [
      "[0]\tvalidation-auc:0.95768\n",
      "[1]\tvalidation-auc:0.97794\n",
      "[2]\tvalidation-auc:0.97568\n",
      "[3]\tvalidation-auc:0.98028\n",
      "[4]\tvalidation-auc:0.97974\n"
     ]
    },
    {
     "name": "stderr",
     "output_type": "stream",
     "text": [
      "\u001b[32m[I 2023-02-15 09:38:19,326]\u001b[0m Trial 15 pruned. Trial was pruned at iteration 5.\u001b[0m\n"
     ]
    },
    {
     "name": "stdout",
     "output_type": "stream",
     "text": [
      "[0]\tvalidation-auc:0.93589\n",
      "[1]\tvalidation-auc:0.97730\n",
      "[2]\tvalidation-auc:0.97738\n",
      "[3]\tvalidation-auc:0.98357\n",
      "[4]\tvalidation-auc:0.98525\n",
      "[5]\tvalidation-auc:0.98588\n",
      "[6]\tvalidation-auc:0.98568\n"
     ]
    },
    {
     "name": "stderr",
     "output_type": "stream",
     "text": [
      "\u001b[32m[I 2023-02-15 09:38:20,290]\u001b[0m Trial 16 pruned. Trial was pruned at iteration 6.\u001b[0m\n"
     ]
    },
    {
     "name": "stdout",
     "output_type": "stream",
     "text": [
      "[0]\tvalidation-auc:0.94525\n",
      "[1]\tvalidation-auc:0.97863\n",
      "[2]\tvalidation-auc:0.98070\n",
      "[3]\tvalidation-auc:0.98596\n",
      "[4]\tvalidation-auc:0.98613\n",
      "[5]\tvalidation-auc:0.98816\n",
      "[6]\tvalidation-auc:0.98852\n",
      "[7]\tvalidation-auc:0.98987\n",
      "[8]\tvalidation-auc:0.99363\n",
      "[9]\tvalidation-auc:0.99523\n"
     ]
    },
    {
     "name": "stderr",
     "output_type": "stream",
     "text": [
      "\u001b[32m[I 2023-02-15 09:38:21,987]\u001b[0m Trial 17 finished with value: 0.9354347228813348 and parameters: {'booster': 'dart', 'lambda': 0.02876630766871789, 'alpha': 0.07124452008537653, 'subsample': 0.3334961282820166, 'colsample_bytree': 0.6390752797037348, 'scale_pos_weight': 28.337329567431567, 'max_depth': 5, 'min_child_weight': 3, 'eta': 0.5727628667768965, 'gamma': 0.0033427692262692193, 'grow_policy': 'lossguide', 'sample_type': 'weighted', 'normalize_type': 'tree', 'rate_drop': 1.6693004712811157e-08, 'skip_drop': 0.0001889930215587613}. Best is trial 14 with value: 0.9662874438993843.\u001b[0m\n"
     ]
    },
    {
     "name": "stdout",
     "output_type": "stream",
     "text": [
      "[0]\tvalidation-auc:0.96339\n",
      "[1]\tvalidation-auc:0.97413\n",
      "[2]\tvalidation-auc:0.97880\n",
      "[3]\tvalidation-auc:0.98057\n",
      "[4]\tvalidation-auc:0.97973\n",
      "[5]\tvalidation-auc:0.97986\n"
     ]
    },
    {
     "name": "stderr",
     "output_type": "stream",
     "text": [
      "\u001b[32m[I 2023-02-15 09:38:23,023]\u001b[0m Trial 18 pruned. Trial was pruned at iteration 5.\u001b[0m\n"
     ]
    },
    {
     "name": "stdout",
     "output_type": "stream",
     "text": [
      "[0]\tvalidation-auc:0.89150\n",
      "[1]\tvalidation-auc:0.96013\n",
      "[2]\tvalidation-auc:0.96097\n",
      "[3]\tvalidation-auc:0.95940\n",
      "[4]\tvalidation-auc:0.97224\n",
      "[5]\tvalidation-auc:0.97213\n"
     ]
    },
    {
     "name": "stderr",
     "output_type": "stream",
     "text": [
      "\u001b[32m[I 2023-02-15 09:38:23,941]\u001b[0m Trial 19 pruned. Trial was pruned at iteration 5.\u001b[0m\n"
     ]
    },
    {
     "name": "stdout",
     "output_type": "stream",
     "text": [
      "[0]\tvalidation-auc:0.92486\n",
      "[1]\tvalidation-auc:0.95904\n",
      "[2]\tvalidation-auc:0.95757\n",
      "[3]\tvalidation-auc:0.95825\n",
      "[4]\tvalidation-auc:0.95925\n"
     ]
    },
    {
     "name": "stderr",
     "output_type": "stream",
     "text": [
      "\u001b[32m[I 2023-02-15 09:38:24,706]\u001b[0m Trial 20 pruned. Trial was pruned at iteration 5.\u001b[0m\n"
     ]
    },
    {
     "name": "stdout",
     "output_type": "stream",
     "text": [
      "[0]\tvalidation-auc:0.95165\n",
      "[1]\tvalidation-auc:0.97915\n",
      "[2]\tvalidation-auc:0.98058\n",
      "[3]\tvalidation-auc:0.98527\n",
      "[4]\tvalidation-auc:0.98540\n",
      "[5]\tvalidation-auc:0.98759\n",
      "[6]\tvalidation-auc:0.98802\n",
      "[7]\tvalidation-auc:0.98935\n",
      "[8]\tvalidation-auc:0.99223\n",
      "[9]\tvalidation-auc:0.99421\n"
     ]
    },
    {
     "name": "stderr",
     "output_type": "stream",
     "text": [
      "\u001b[32m[I 2023-02-15 09:38:26,260]\u001b[0m Trial 21 finished with value: 0.9343313373253493 and parameters: {'booster': 'dart', 'lambda': 0.023802215487739246, 'alpha': 0.06171832097585801, 'subsample': 0.33652623032281115, 'colsample_bytree': 0.6365302975346456, 'scale_pos_weight': 19.815648949612665, 'max_depth': 5, 'min_child_weight': 3, 'eta': 0.47520503949385506, 'gamma': 0.0043350266621006136, 'grow_policy': 'lossguide', 'sample_type': 'weighted', 'normalize_type': 'tree', 'rate_drop': 1.2736226333763896e-08, 'skip_drop': 0.0003341868209163564}. Best is trial 14 with value: 0.9662874438993843.\u001b[0m\n"
     ]
    },
    {
     "name": "stdout",
     "output_type": "stream",
     "text": [
      "[0]\tvalidation-auc:0.95237\n",
      "[1]\tvalidation-auc:0.95725\n",
      "[2]\tvalidation-auc:0.98441\n",
      "[3]\tvalidation-auc:0.98648\n",
      "[4]\tvalidation-auc:0.98801\n",
      "[5]\tvalidation-auc:0.99170\n",
      "[6]\tvalidation-auc:0.99430\n",
      "[7]\tvalidation-auc:0.99486\n",
      "[8]\tvalidation-auc:0.99597\n",
      "[9]\tvalidation-auc:0.99610\n"
     ]
    },
    {
     "name": "stderr",
     "output_type": "stream",
     "text": [
      "\u001b[32m[I 2023-02-15 09:38:27,703]\u001b[0m Trial 22 finished with value: 0.9574266792809839 and parameters: {'booster': 'dart', 'lambda': 0.04331649920618729, 'alpha': 0.014080498691843262, 'subsample': 0.300756498038813, 'colsample_bytree': 0.793251409290442, 'scale_pos_weight': 41.74491519543933, 'max_depth': 5, 'min_child_weight': 3, 'eta': 0.9902953147761037, 'gamma': 0.0028207458159641946, 'grow_policy': 'lossguide', 'sample_type': 'weighted', 'normalize_type': 'tree', 'rate_drop': 3.205352907157005e-07, 'skip_drop': 0.00030600141864010926}. Best is trial 14 with value: 0.9662874438993843.\u001b[0m\n"
     ]
    },
    {
     "name": "stdout",
     "output_type": "stream",
     "text": [
      "[0]\tvalidation-auc:0.95922\n",
      "[1]\tvalidation-auc:0.98051\n",
      "[2]\tvalidation-auc:0.98854\n",
      "[3]\tvalidation-auc:0.99454\n",
      "[4]\tvalidation-auc:0.99321\n",
      "[5]\tvalidation-auc:0.99563\n",
      "[6]\tvalidation-auc:0.99741\n",
      "[7]\tvalidation-auc:0.99767\n",
      "[8]\tvalidation-auc:0.99829\n",
      "[9]\tvalidation-auc:0.99859\n"
     ]
    },
    {
     "name": "stderr",
     "output_type": "stream",
     "text": [
      "\u001b[32m[I 2023-02-15 09:38:29,353]\u001b[0m Trial 23 finished with value: 0.976659277611162 and parameters: {'booster': 'dart', 'lambda': 0.9580230370456807, 'alpha': 0.008893442677567568, 'subsample': 0.20915603350846237, 'colsample_bytree': 0.7953667019207958, 'scale_pos_weight': 48.13761828887612, 'max_depth': 7, 'min_child_weight': 6, 'eta': 0.9547602953025166, 'gamma': 0.04517452694861785, 'grow_policy': 'lossguide', 'sample_type': 'weighted', 'normalize_type': 'tree', 'rate_drop': 5.314263842760643e-07, 'skip_drop': 0.0012663410437119696}. Best is trial 23 with value: 0.976659277611162.\u001b[0m\n"
     ]
    },
    {
     "name": "stdout",
     "output_type": "stream",
     "text": [
      "[0]\tvalidation-auc:0.93829\n",
      "[1]\tvalidation-auc:0.94085\n",
      "[2]\tvalidation-auc:0.97749\n",
      "[3]\tvalidation-auc:0.98182\n",
      "[4]\tvalidation-auc:0.98203\n",
      "[5]\tvalidation-auc:0.98316\n"
     ]
    },
    {
     "name": "stderr",
     "output_type": "stream",
     "text": [
      "\u001b[32m[I 2023-02-15 09:38:30,200]\u001b[0m Trial 24 pruned. Trial was pruned at iteration 5.\u001b[0m\n"
     ]
    },
    {
     "name": "stdout",
     "output_type": "stream",
     "text": [
      "[0]\tvalidation-auc:0.96971\n",
      "[1]\tvalidation-auc:0.98218\n",
      "[2]\tvalidation-auc:0.98856\n",
      "[3]\tvalidation-auc:0.99162\n",
      "[4]\tvalidation-auc:0.99130\n",
      "[5]\tvalidation-auc:0.99190\n",
      "[6]\tvalidation-auc:0.99222\n",
      "[7]\tvalidation-auc:0.99262\n",
      "[8]\tvalidation-auc:0.99429\n",
      "[9]\tvalidation-auc:0.99529\n"
     ]
    },
    {
     "name": "stderr",
     "output_type": "stream",
     "text": [
      "\u001b[32m[I 2023-02-15 09:38:31,779]\u001b[0m Trial 25 finished with value: 0.9331638755980862 and parameters: {'booster': 'dart', 'lambda': 0.18817500327557724, 'alpha': 0.00019201491481289518, 'subsample': 0.20068167364659684, 'colsample_bytree': 0.7802518776893651, 'scale_pos_weight': 16.697389093260732, 'max_depth': 7, 'min_child_weight': 6, 'eta': 0.12020412785192836, 'gamma': 0.8645011004023174, 'grow_policy': 'lossguide', 'sample_type': 'weighted', 'normalize_type': 'tree', 'rate_drop': 1.7525402991130686e-05, 'skip_drop': 1.7308384301478102e-07}. Best is trial 23 with value: 0.976659277611162.\u001b[0m\n"
     ]
    },
    {
     "name": "stdout",
     "output_type": "stream",
     "text": [
      "[0]\tvalidation-auc:0.96354\n",
      "[1]\tvalidation-auc:0.97247\n",
      "[2]\tvalidation-auc:0.97957\n",
      "[3]\tvalidation-auc:0.98666\n",
      "[4]\tvalidation-auc:0.98592\n"
     ]
    },
    {
     "name": "stderr",
     "output_type": "stream",
     "text": [
      "\u001b[32m[I 2023-02-15 09:38:32,798]\u001b[0m Trial 26 pruned. Trial was pruned at iteration 5.\u001b[0m\n"
     ]
    },
    {
     "name": "stdout",
     "output_type": "stream",
     "text": [
      "[0]\tvalidation-auc:0.76331\n",
      "[1]\tvalidation-auc:0.77176\n",
      "[2]\tvalidation-auc:0.78102\n",
      "[3]\tvalidation-auc:0.79150\n",
      "[4]\tvalidation-auc:0.80258\n",
      "[5]\tvalidation-auc:0.81165\n"
     ]
    },
    {
     "name": "stderr",
     "output_type": "stream",
     "text": [
      "\u001b[32m[I 2023-02-15 09:38:33,201]\u001b[0m Trial 27 pruned. Trial was pruned at iteration 5.\u001b[0m\n"
     ]
    },
    {
     "name": "stdout",
     "output_type": "stream",
     "text": [
      "[0]\tvalidation-auc:0.97769\n",
      "[1]\tvalidation-auc:0.97559\n",
      "[2]\tvalidation-auc:0.97747\n",
      "[3]\tvalidation-auc:0.97992\n",
      "[4]\tvalidation-auc:0.98092\n",
      "[5]\tvalidation-auc:0.98137\n"
     ]
    },
    {
     "name": "stderr",
     "output_type": "stream",
     "text": [
      "\u001b[32m[I 2023-02-15 09:38:34,277]\u001b[0m Trial 28 pruned. Trial was pruned at iteration 5.\u001b[0m\n"
     ]
    },
    {
     "name": "stdout",
     "output_type": "stream",
     "text": [
      "[0]\tvalidation-auc:0.92943\n",
      "[1]\tvalidation-auc:0.97574\n",
      "[2]\tvalidation-auc:0.97734\n",
      "[3]\tvalidation-auc:0.98378\n",
      "[4]\tvalidation-auc:0.98640\n"
     ]
    },
    {
     "name": "stderr",
     "output_type": "stream",
     "text": [
      "\u001b[32m[I 2023-02-15 09:38:35,104]\u001b[0m Trial 29 pruned. Trial was pruned at iteration 5.\u001b[0m\n"
     ]
    },
    {
     "name": "stdout",
     "output_type": "stream",
     "text": [
      "[0]\tvalidation-auc:0.82658\n",
      "[1]\tvalidation-auc:0.82658\n",
      "[2]\tvalidation-auc:0.82659\n",
      "[3]\tvalidation-auc:0.81637\n",
      "[4]\tvalidation-auc:0.80815\n",
      "[5]\tvalidation-auc:0.80953\n"
     ]
    },
    {
     "name": "stderr",
     "output_type": "stream",
     "text": [
      "\u001b[32m[I 2023-02-15 09:38:35,471]\u001b[0m Trial 30 pruned. Trial was pruned at iteration 5.\u001b[0m\n"
     ]
    },
    {
     "name": "stdout",
     "output_type": "stream",
     "text": [
      "[0]\tvalidation-auc:0.88379\n",
      "[1]\tvalidation-auc:0.94534\n",
      "[2]\tvalidation-auc:0.97549\n",
      "[3]\tvalidation-auc:0.98354\n",
      "[4]\tvalidation-auc:0.98483\n"
     ]
    },
    {
     "name": "stderr",
     "output_type": "stream",
     "text": [
      "\u001b[32m[I 2023-02-15 09:38:36,321]\u001b[0m Trial 31 pruned. Trial was pruned at iteration 5.\u001b[0m\n"
     ]
    },
    {
     "name": "stdout",
     "output_type": "stream",
     "text": [
      "[0]\tvalidation-auc:0.87450\n",
      "[1]\tvalidation-auc:0.94080\n",
      "[2]\tvalidation-auc:0.97992\n",
      "[3]\tvalidation-auc:0.98378\n",
      "[4]\tvalidation-auc:0.98341\n"
     ]
    },
    {
     "name": "stderr",
     "output_type": "stream",
     "text": [
      "\u001b[32m[I 2023-02-15 09:38:37,171]\u001b[0m Trial 32 pruned. Trial was pruned at iteration 5.\u001b[0m\n"
     ]
    },
    {
     "name": "stdout",
     "output_type": "stream",
     "text": [
      "[0]\tvalidation-auc:0.96533\n",
      "[1]\tvalidation-auc:0.96417\n",
      "[2]\tvalidation-auc:0.97908\n",
      "[3]\tvalidation-auc:0.97961\n",
      "[4]\tvalidation-auc:0.98083\n"
     ]
    },
    {
     "name": "stderr",
     "output_type": "stream",
     "text": [
      "\u001b[32m[I 2023-02-15 09:38:38,031]\u001b[0m Trial 33 pruned. Trial was pruned at iteration 5.\u001b[0m\n"
     ]
    },
    {
     "name": "stdout",
     "output_type": "stream",
     "text": [
      "[0]\tvalidation-auc:0.91370\n",
      "[1]\tvalidation-auc:0.97370\n",
      "[2]\tvalidation-auc:0.98615\n",
      "[3]\tvalidation-auc:0.98989\n",
      "[4]\tvalidation-auc:0.99223\n",
      "[5]\tvalidation-auc:0.99578\n",
      "[6]\tvalidation-auc:0.99738\n",
      "[7]\tvalidation-auc:0.99731\n",
      "[8]\tvalidation-auc:0.99519\n",
      "[9]\tvalidation-auc:0.99793\n"
     ]
    },
    {
     "name": "stderr",
     "output_type": "stream",
     "text": [
      "\u001b[32m[I 2023-02-15 09:38:39,826]\u001b[0m Trial 34 finished with value: 0.980949628189295 and parameters: {'booster': 'dart', 'lambda': 0.23975329978407903, 'alpha': 0.040612704885200954, 'subsample': 0.3818679325493146, 'colsample_bytree': 0.5687102625545267, 'scale_pos_weight': 11.583874614012618, 'max_depth': 7, 'min_child_weight': 3, 'eta': 0.8851695114394383, 'gamma': 0.26369491079759466, 'grow_policy': 'lossguide', 'sample_type': 'weighted', 'normalize_type': 'tree', 'rate_drop': 7.029921726612357e-08, 'skip_drop': 7.204516452447345e-08}. Best is trial 34 with value: 0.980949628189295.\u001b[0m\n"
     ]
    },
    {
     "name": "stdout",
     "output_type": "stream",
     "text": [
      "[0]\tvalidation-auc:0.92538\n",
      "[1]\tvalidation-auc:0.97819\n",
      "[2]\tvalidation-auc:0.98318\n",
      "[3]\tvalidation-auc:0.98594\n",
      "[4]\tvalidation-auc:0.98747\n",
      "[5]\tvalidation-auc:0.99086\n",
      "[6]\tvalidation-auc:0.99146\n",
      "[7]\tvalidation-auc:0.99198\n"
     ]
    },
    {
     "name": "stderr",
     "output_type": "stream",
     "text": [
      "\u001b[32m[I 2023-02-15 09:38:41,435]\u001b[0m Trial 35 pruned. Trial was pruned at iteration 8.\u001b[0m\n"
     ]
    },
    {
     "name": "stdout",
     "output_type": "stream",
     "text": [
      "[0]\tvalidation-auc:0.80651\n",
      "[1]\tvalidation-auc:0.83034\n",
      "[2]\tvalidation-auc:0.85249\n",
      "[3]\tvalidation-auc:0.87479\n",
      "[4]\tvalidation-auc:0.89410\n"
     ]
    },
    {
     "name": "stderr",
     "output_type": "stream",
     "text": [
      "\u001b[32m[I 2023-02-15 09:38:41,776]\u001b[0m Trial 36 pruned. Trial was pruned at iteration 5.\u001b[0m\n"
     ]
    },
    {
     "name": "stdout",
     "output_type": "stream",
     "text": [
      "[0]\tvalidation-auc:0.94359\n",
      "[1]\tvalidation-auc:0.98732\n",
      "[2]\tvalidation-auc:0.99014\n",
      "[3]\tvalidation-auc:0.99205\n",
      "[4]\tvalidation-auc:0.99248\n",
      "[5]\tvalidation-auc:0.99277\n",
      "[6]\tvalidation-auc:0.99331\n",
      "[7]\tvalidation-auc:0.99395\n",
      "[8]\tvalidation-auc:0.99384\n"
     ]
    },
    {
     "name": "stderr",
     "output_type": "stream",
     "text": [
      "\u001b[32m[I 2023-02-15 09:38:43,361]\u001b[0m Trial 37 pruned. Trial was pruned at iteration 9.\u001b[0m\n"
     ]
    },
    {
     "name": "stdout",
     "output_type": "stream",
     "text": [
      "[0]\tvalidation-auc:0.91219\n",
      "[1]\tvalidation-auc:0.97107\n",
      "[2]\tvalidation-auc:0.98126\n",
      "[3]\tvalidation-auc:0.98563\n",
      "[4]\tvalidation-auc:0.98564\n",
      "[5]\tvalidation-auc:0.98912\n",
      "[6]\tvalidation-auc:0.98977\n"
     ]
    },
    {
     "name": "stderr",
     "output_type": "stream",
     "text": [
      "\u001b[32m[I 2023-02-15 09:38:44,845]\u001b[0m Trial 38 pruned. Trial was pruned at iteration 7.\u001b[0m\n"
     ]
    },
    {
     "name": "stdout",
     "output_type": "stream",
     "text": [
      "[0]\tvalidation-auc:0.75352\n",
      "[1]\tvalidation-auc:0.75885\n",
      "[2]\tvalidation-auc:0.76782\n",
      "[3]\tvalidation-auc:0.77488\n",
      "[4]\tvalidation-auc:0.78039\n",
      "[5]\tvalidation-auc:0.78607\n"
     ]
    },
    {
     "name": "stderr",
     "output_type": "stream",
     "text": [
      "\u001b[32m[I 2023-02-15 09:38:45,220]\u001b[0m Trial 39 pruned. Trial was pruned at iteration 5.\u001b[0m\n"
     ]
    },
    {
     "name": "stdout",
     "output_type": "stream",
     "text": [
      "[0]\tvalidation-auc:0.98056\n",
      "[1]\tvalidation-auc:0.99283\n",
      "[2]\tvalidation-auc:0.99742\n",
      "[3]\tvalidation-auc:0.99845\n",
      "[4]\tvalidation-auc:0.99868\n",
      "[5]\tvalidation-auc:0.99907\n",
      "[6]\tvalidation-auc:0.99918\n",
      "[7]\tvalidation-auc:0.99936\n",
      "[8]\tvalidation-auc:0.99950\n",
      "[9]\tvalidation-auc:0.99959\n"
     ]
    },
    {
     "name": "stderr",
     "output_type": "stream",
     "text": [
      "\u001b[32m[I 2023-02-15 09:38:47,074]\u001b[0m Trial 40 finished with value: 0.994051096829022 and parameters: {'booster': 'dart', 'lambda': 0.001437308287216786, 'alpha': 0.0992964137630087, 'subsample': 0.20001301613529077, 'colsample_bytree': 0.7249187420842427, 'scale_pos_weight': 7.6530071793930805, 'max_depth': 9, 'min_child_weight': 5, 'eta': 0.9877723303181559, 'gamma': 0.3167259455936046, 'grow_policy': 'lossguide', 'sample_type': 'weighted', 'normalize_type': 'tree', 'rate_drop': 6.44980586750072e-08, 'skip_drop': 4.799744570797041e-08}. Best is trial 40 with value: 0.994051096829022.\u001b[0m\n"
     ]
    },
    {
     "name": "stdout",
     "output_type": "stream",
     "text": [
      "[0]\tvalidation-auc:0.97990\n",
      "[1]\tvalidation-auc:0.99082\n",
      "[2]\tvalidation-auc:0.99485\n",
      "[3]\tvalidation-auc:0.99655\n",
      "[4]\tvalidation-auc:0.99671\n",
      "[5]\tvalidation-auc:0.99712\n",
      "[6]\tvalidation-auc:0.99760\n",
      "[7]\tvalidation-auc:0.99820\n",
      "[8]\tvalidation-auc:0.99881\n",
      "[9]\tvalidation-auc:0.99925\n"
     ]
    },
    {
     "name": "stderr",
     "output_type": "stream",
     "text": [
      "\u001b[32m[I 2023-02-15 09:38:50,701]\u001b[0m Trial 41 finished with value: 0.9806509046160291 and parameters: {'booster': 'dart', 'lambda': 0.0011060254900060057, 'alpha': 0.10258341764575207, 'subsample': 0.24154531985985916, 'colsample_bytree': 0.7370693222127999, 'scale_pos_weight': 9.484424141116575, 'max_depth': 9, 'min_child_weight': 5, 'eta': 0.23851990962427425, 'gamma': 0.041521447938035604, 'grow_policy': 'lossguide', 'sample_type': 'weighted', 'normalize_type': 'tree', 'rate_drop': 7.110899880134108e-08, 'skip_drop': 5.4049798093959683e-08}. Best is trial 40 with value: 0.994051096829022.\u001b[0m\n"
     ]
    },
    {
     "name": "stdout",
     "output_type": "stream",
     "text": [
      "[0]\tvalidation-auc:0.98054\n",
      "[1]\tvalidation-auc:0.99114\n",
      "[2]\tvalidation-auc:0.99498\n",
      "[3]\tvalidation-auc:0.99648\n",
      "[4]\tvalidation-auc:0.99686\n",
      "[5]\tvalidation-auc:0.99724\n",
      "[6]\tvalidation-auc:0.99813\n",
      "[7]\tvalidation-auc:0.99847\n",
      "[8]\tvalidation-auc:0.99888\n",
      "[9]\tvalidation-auc:0.99928\n"
     ]
    },
    {
     "name": "stderr",
     "output_type": "stream",
     "text": [
      "\u001b[32m[I 2023-02-15 09:39:02,721]\u001b[0m Trial 42 finished with value: 0.9807516040329972 and parameters: {'booster': 'dart', 'lambda': 0.0008765923463911372, 'alpha': 0.10752325087042093, 'subsample': 0.20384526059994995, 'colsample_bytree': 0.7304679823662452, 'scale_pos_weight': 10.299508127542687, 'max_depth': 9, 'min_child_weight': 5, 'eta': 0.2740348356472493, 'gamma': 0.024577396507720818, 'grow_policy': 'lossguide', 'sample_type': 'weighted', 'normalize_type': 'tree', 'rate_drop': 8.05352051793891e-07, 'skip_drop': 4.414960846602914e-08}. Best is trial 40 with value: 0.994051096829022.\u001b[0m\n"
     ]
    },
    {
     "name": "stdout",
     "output_type": "stream",
     "text": [
      "[0]\tvalidation-auc:0.97844\n",
      "[1]\tvalidation-auc:0.99117\n",
      "[2]\tvalidation-auc:0.99765\n",
      "[3]\tvalidation-auc:0.99818\n",
      "[4]\tvalidation-auc:0.99822\n",
      "[5]\tvalidation-auc:0.99907\n",
      "[6]\tvalidation-auc:0.99943\n",
      "[7]\tvalidation-auc:0.99956\n",
      "[8]\tvalidation-auc:0.99962\n",
      "[9]\tvalidation-auc:0.99965\n"
     ]
    },
    {
     "name": "stderr",
     "output_type": "stream",
     "text": [
      "\u001b[32m[I 2023-02-15 09:39:08,201]\u001b[0m Trial 43 finished with value: 0.9941312372201715 and parameters: {'booster': 'dart', 'lambda': 0.002563902636684886, 'alpha': 0.3447280284312349, 'subsample': 0.23900273660379023, 'colsample_bytree': 0.7303155551992988, 'scale_pos_weight': 10.224161361064658, 'max_depth': 9, 'min_child_weight': 5, 'eta': 0.9791500061701879, 'gamma': 0.18427574816842066, 'grow_policy': 'lossguide', 'sample_type': 'weighted', 'normalize_type': 'tree', 'rate_drop': 8.282824296302157e-08, 'skip_drop': 4.9732163506416105e-08}. Best is trial 43 with value: 0.9941312372201715.\u001b[0m\n"
     ]
    },
    {
     "name": "stdout",
     "output_type": "stream",
     "text": [
      "[0]\tvalidation-auc:0.96906\n",
      "[1]\tvalidation-auc:0.99059\n",
      "[2]\tvalidation-auc:0.99316\n",
      "[3]\tvalidation-auc:0.99544\n",
      "[4]\tvalidation-auc:0.99540\n",
      "[5]\tvalidation-auc:0.99583\n",
      "[6]\tvalidation-auc:0.99591\n",
      "[7]\tvalidation-auc:0.99641\n",
      "[8]\tvalidation-auc:0.99771\n",
      "[9]\tvalidation-auc:0.99857\n"
     ]
    },
    {
     "name": "stderr",
     "output_type": "stream",
     "text": [
      "\u001b[32m[I 2023-02-15 09:39:12,709]\u001b[0m Trial 44 finished with value: 0.9723289378050047 and parameters: {'booster': 'dart', 'lambda': 0.0007027759441170966, 'alpha': 0.3712011308476734, 'subsample': 0.2513327263222276, 'colsample_bytree': 0.6519136445887638, 'scale_pos_weight': 9.431426911888613, 'max_depth': 9, 'min_child_weight': 5, 'eta': 0.19185944724029222, 'gamma': 0.3234923983395588, 'grow_policy': 'lossguide', 'sample_type': 'weighted', 'normalize_type': 'tree', 'rate_drop': 7.856977952157442e-08, 'skip_drop': 6.219106987031321e-08}. Best is trial 43 with value: 0.9941312372201715.\u001b[0m\n"
     ]
    },
    {
     "name": "stdout",
     "output_type": "stream",
     "text": [
      "[0]\tvalidation-auc:0.97910\n",
      "[1]\tvalidation-auc:0.98748\n",
      "[2]\tvalidation-auc:0.99201\n",
      "[3]\tvalidation-auc:0.99418\n",
      "[4]\tvalidation-auc:0.99377\n",
      "[5]\tvalidation-auc:0.99400\n",
      "[6]\tvalidation-auc:0.99430\n",
      "[7]\tvalidation-auc:0.99444\n",
      "[8]\tvalidation-auc:0.99515\n",
      "[9]\tvalidation-auc:0.99652\n"
     ]
    },
    {
     "name": "stderr",
     "output_type": "stream",
     "text": [
      "\u001b[32m[I 2023-02-15 09:39:17,788]\u001b[0m Trial 45 finished with value: 0.9444332392093586 and parameters: {'booster': 'dart', 'lambda': 0.0023273453455248997, 'alpha': 0.11184296306808998, 'subsample': 0.3239698035128138, 'colsample_bytree': 0.7432061468733455, 'scale_pos_weight': 23.34215257098421, 'max_depth': 9, 'min_child_weight': 5, 'eta': 0.04798989256631757, 'gamma': 0.31295560211938156, 'grow_policy': 'lossguide', 'sample_type': 'weighted', 'normalize_type': 'tree', 'rate_drop': 4.544453842132219e-08, 'skip_drop': 3.6222859411775184e-07}. Best is trial 43 with value: 0.9941312372201715.\u001b[0m\n"
     ]
    },
    {
     "name": "stdout",
     "output_type": "stream",
     "text": [
      "[0]\tvalidation-auc:0.96502\n",
      "[1]\tvalidation-auc:0.98545\n",
      "[2]\tvalidation-auc:0.98962\n",
      "[3]\tvalidation-auc:0.99257\n",
      "[4]\tvalidation-auc:0.99193\n",
      "[5]\tvalidation-auc:0.99303\n",
      "[6]\tvalidation-auc:0.99281\n",
      "[7]\tvalidation-auc:0.99305\n"
     ]
    },
    {
     "name": "stderr",
     "output_type": "stream",
     "text": [
      "\u001b[32m[I 2023-02-15 09:39:20,957]\u001b[0m Trial 46 pruned. Trial was pruned at iteration 7.\u001b[0m\n"
     ]
    },
    {
     "name": "stdout",
     "output_type": "stream",
     "text": [
      "[0]\tvalidation-auc:0.97525\n",
      "[1]\tvalidation-auc:0.98852\n",
      "[2]\tvalidation-auc:0.99334\n",
      "[3]\tvalidation-auc:0.99539\n",
      "[4]\tvalidation-auc:0.99587\n",
      "[5]\tvalidation-auc:0.99640\n",
      "[6]\tvalidation-auc:0.99691\n",
      "[7]\tvalidation-auc:0.99744\n",
      "[8]\tvalidation-auc:0.99788\n",
      "[9]\tvalidation-auc:0.99848\n"
     ]
    },
    {
     "name": "stderr",
     "output_type": "stream",
     "text": [
      "\u001b[32m[I 2023-02-15 09:39:26,771]\u001b[0m Trial 47 finished with value: 0.9800800984215899 and parameters: {'booster': 'dart', 'lambda': 0.00041780653153291794, 'alpha': 0.7243556124588642, 'subsample': 0.29432403254033174, 'colsample_bytree': 0.7343089424950534, 'scale_pos_weight': 10.626642731036899, 'max_depth': 9, 'min_child_weight': 7, 'eta': 0.26241419716238695, 'gamma': 0.7344953618265758, 'grow_policy': 'lossguide', 'sample_type': 'uniform', 'normalize_type': 'forest', 'rate_drop': 1.178737538509179e-08, 'skip_drop': 2.684056238066406e-07}. Best is trial 43 with value: 0.9941312372201715.\u001b[0m\n"
     ]
    },
    {
     "name": "stdout",
     "output_type": "stream",
     "text": [
      "[0]\tvalidation-auc:0.98055\n",
      "[1]\tvalidation-auc:0.99058\n",
      "[2]\tvalidation-auc:0.99442\n",
      "[3]\tvalidation-auc:0.99573\n",
      "[4]\tvalidation-auc:0.99552\n",
      "[5]\tvalidation-auc:0.99574\n",
      "[6]\tvalidation-auc:0.99571\n",
      "[7]\tvalidation-auc:0.99579\n",
      "[8]\tvalidation-auc:0.99688\n",
      "[9]\tvalidation-auc:0.99774\n"
     ]
    },
    {
     "name": "stderr",
     "output_type": "stream",
     "text": [
      "\u001b[32m[I 2023-02-15 09:39:30,965]\u001b[0m Trial 48 finished with value: 0.9624832973584131 and parameters: {'booster': 'dart', 'lambda': 0.00020096716190398415, 'alpha': 0.10051784493830881, 'subsample': 0.2016541206839661, 'colsample_bytree': 0.7181607575411858, 'scale_pos_weight': 9.193631637209485, 'max_depth': 9, 'min_child_weight': 5, 'eta': 0.02404696822497946, 'gamma': 0.05861153795600781, 'grow_policy': 'lossguide', 'sample_type': 'weighted', 'normalize_type': 'forest', 'rate_drop': 8.036191824706467e-07, 'skip_drop': 9.853324290585521e-07}. Best is trial 43 with value: 0.9941312372201715.\u001b[0m\n"
     ]
    },
    {
     "name": "stdout",
     "output_type": "stream",
     "text": [
      "[0]\tvalidation-auc:0.94922\n",
      "[1]\tvalidation-auc:0.98973\n",
      "[2]\tvalidation-auc:0.99459\n",
      "[3]\tvalidation-auc:0.99617\n",
      "[4]\tvalidation-auc:0.99736\n",
      "[5]\tvalidation-auc:0.99859\n",
      "[6]\tvalidation-auc:0.99907\n",
      "[7]\tvalidation-auc:0.99927\n",
      "[8]\tvalidation-auc:0.99950\n",
      "[9]\tvalidation-auc:0.99959\n"
     ]
    },
    {
     "name": "stderr",
     "output_type": "stream",
     "text": [
      "\u001b[32m[I 2023-02-15 09:39:33,783]\u001b[0m Trial 49 finished with value: 0.9881794195250659 and parameters: {'booster': 'gbtree', 'lambda': 0.005574605253720413, 'alpha': 0.9284207030630361, 'subsample': 0.23972420357925234, 'colsample_bytree': 0.6122685839674799, 'scale_pos_weight': 19.587274503226496, 'max_depth': 9, 'min_child_weight': 9, 'eta': 0.9360173409346854, 'gamma': 0.9663292962122221, 'grow_policy': 'lossguide'}. Best is trial 43 with value: 0.9941312372201715.\u001b[0m\n"
     ]
    },
    {
     "name": "stdout",
     "output_type": "stream",
     "text": [
      "[0]\tvalidation-auc:0.94828\n",
      "[1]\tvalidation-auc:0.96895\n",
      "[2]\tvalidation-auc:0.98039\n",
      "[3]\tvalidation-auc:0.98823\n",
      "[4]\tvalidation-auc:0.99406\n",
      "[5]\tvalidation-auc:0.99439\n",
      "[6]\tvalidation-auc:0.99465\n",
      "[7]\tvalidation-auc:0.99520\n",
      "[8]\tvalidation-auc:0.99587\n",
      "[9]\tvalidation-auc:0.99602\n"
     ]
    },
    {
     "name": "stderr",
     "output_type": "stream",
     "text": [
      "\u001b[32m[I 2023-02-15 09:39:36,959]\u001b[0m Trial 50 pruned. Trial was pruned at iteration 9.\u001b[0m\n"
     ]
    },
    {
     "name": "stdout",
     "output_type": "stream",
     "text": [
      "[0]\tvalidation-auc:0.95530\n",
      "[1]\tvalidation-auc:0.99339\n",
      "[2]\tvalidation-auc:0.99724\n",
      "[3]\tvalidation-auc:0.99826\n",
      "[4]\tvalidation-auc:0.99900\n",
      "[5]\tvalidation-auc:0.99929\n",
      "[6]\tvalidation-auc:0.99936\n",
      "[7]\tvalidation-auc:0.99947\n",
      "[8]\tvalidation-auc:0.99958\n",
      "[9]\tvalidation-auc:0.99963\n"
     ]
    },
    {
     "name": "stderr",
     "output_type": "stream",
     "text": [
      "\u001b[32m[I 2023-02-15 09:39:39,875]\u001b[0m Trial 51 finished with value: 0.9920784209829115 and parameters: {'booster': 'gbtree', 'lambda': 0.0015588293584369534, 'alpha': 0.24955422724931517, 'subsample': 0.23538418374579861, 'colsample_bytree': 0.6338100248333203, 'scale_pos_weight': 8.068427879316548, 'max_depth': 9, 'min_child_weight': 9, 'eta': 0.9075249473084961, 'gamma': 0.21706329520606682, 'grow_policy': 'lossguide'}. Best is trial 43 with value: 0.9941312372201715.\u001b[0m\n"
     ]
    },
    {
     "name": "stdout",
     "output_type": "stream",
     "text": [
      "[0]\tvalidation-auc:0.94836\n",
      "[1]\tvalidation-auc:0.98938\n",
      "[2]\tvalidation-auc:0.99305\n",
      "[3]\tvalidation-auc:0.99512\n",
      "[4]\tvalidation-auc:0.99677\n",
      "[5]\tvalidation-auc:0.99837\n",
      "[6]\tvalidation-auc:0.99875\n",
      "[7]\tvalidation-auc:0.99907\n",
      "[8]\tvalidation-auc:0.99938\n",
      "[9]\tvalidation-auc:0.99950\n"
     ]
    },
    {
     "name": "stderr",
     "output_type": "stream",
     "text": [
      "\u001b[32m[I 2023-02-15 09:39:43,050]\u001b[0m Trial 52 finished with value: 0.9807556358495013 and parameters: {'booster': 'gbtree', 'lambda': 0.0030977604430470285, 'alpha': 0.32328103818058285, 'subsample': 0.2786791361350176, 'colsample_bytree': 0.6329150604364397, 'scale_pos_weight': 35.36581890214072, 'max_depth': 9, 'min_child_weight': 9, 'eta': 0.7164191996436579, 'gamma': 0.36814588941167253, 'grow_policy': 'lossguide'}. Best is trial 43 with value: 0.9941312372201715.\u001b[0m\n"
     ]
    },
    {
     "name": "stdout",
     "output_type": "stream",
     "text": [
      "[0]\tvalidation-auc:0.94798\n",
      "[1]\tvalidation-auc:0.99068\n",
      "[2]\tvalidation-auc:0.99415\n",
      "[3]\tvalidation-auc:0.99537\n",
      "[4]\tvalidation-auc:0.99695\n",
      "[5]\tvalidation-auc:0.99825\n",
      "[6]\tvalidation-auc:0.99861\n",
      "[7]\tvalidation-auc:0.99868\n",
      "[8]\tvalidation-auc:0.99902\n",
      "[9]\tvalidation-auc:0.99918\n"
     ]
    },
    {
     "name": "stderr",
     "output_type": "stream",
     "text": [
      "\u001b[32m[I 2023-02-15 09:39:45,859]\u001b[0m Trial 53 finished with value: 0.9869787548104803 and parameters: {'booster': 'gbtree', 'lambda': 0.0031087705523959843, 'alpha': 0.30583680831786997, 'subsample': 0.2752205709995257, 'colsample_bytree': 0.6112502298685406, 'scale_pos_weight': 35.42180587795186, 'max_depth': 9, 'min_child_weight': 9, 'eta': 0.9659671568970619, 'gamma': 0.31835807105482616, 'grow_policy': 'lossguide'}. Best is trial 43 with value: 0.9941312372201715.\u001b[0m\n"
     ]
    },
    {
     "name": "stdout",
     "output_type": "stream",
     "text": [
      "[0]\tvalidation-auc:0.94802\n",
      "[1]\tvalidation-auc:0.97043\n",
      "[2]\tvalidation-auc:0.98423\n",
      "[3]\tvalidation-auc:0.99275\n",
      "[4]\tvalidation-auc:0.99693\n",
      "[5]\tvalidation-auc:0.99806\n",
      "[6]\tvalidation-auc:0.99833\n",
      "[7]\tvalidation-auc:0.99858\n",
      "[8]\tvalidation-auc:0.99908\n",
      "[9]\tvalidation-auc:0.99931\n"
     ]
    },
    {
     "name": "stderr",
     "output_type": "stream",
     "text": [
      "\u001b[32m[I 2023-02-15 09:39:49,079]\u001b[0m Trial 54 finished with value: 0.9830392774627179 and parameters: {'booster': 'gbtree', 'lambda': 0.007688731562317741, 'alpha': 0.47394781126870406, 'subsample': 0.31512404353588996, 'colsample_bytree': 0.5409618080994741, 'scale_pos_weight': 29.690382859262716, 'max_depth': 9, 'min_child_weight': 9, 'eta': 0.9680762108114687, 'gamma': 0.9847809729840449, 'grow_policy': 'lossguide'}. Best is trial 43 with value: 0.9941312372201715.\u001b[0m\n"
     ]
    },
    {
     "name": "stdout",
     "output_type": "stream",
     "text": [
      "[0]\tvalidation-auc:0.94800\n",
      "[1]\tvalidation-auc:0.96696\n",
      "[2]\tvalidation-auc:0.98057\n",
      "[3]\tvalidation-auc:0.98900\n",
      "[4]\tvalidation-auc:0.99569\n",
      "[5]\tvalidation-auc:0.99638\n",
      "[6]\tvalidation-auc:0.99717\n",
      "[7]\tvalidation-auc:0.99753\n",
      "[8]\tvalidation-auc:0.99820\n",
      "[9]\tvalidation-auc:0.99851\n"
     ]
    },
    {
     "name": "stderr",
     "output_type": "stream",
     "text": [
      "\u001b[32m[I 2023-02-15 09:39:51,722]\u001b[0m Trial 55 finished with value: 0.9468867709886998 and parameters: {'booster': 'gbtree', 'lambda': 0.005451551165460891, 'alpha': 0.5697450020711539, 'subsample': 0.3177684429960318, 'colsample_bytree': 0.5307451992407571, 'scale_pos_weight': 28.545855017991997, 'max_depth': 9, 'min_child_weight': 9, 'eta': 0.3213297682883233, 'gamma': 0.9664633506683888, 'grow_policy': 'lossguide'}. Best is trial 43 with value: 0.9941312372201715.\u001b[0m\n"
     ]
    },
    {
     "name": "stdout",
     "output_type": "stream",
     "text": [
      "[0]\tvalidation-auc:0.94797\n",
      "[1]\tvalidation-auc:0.98893\n",
      "[2]\tvalidation-auc:0.99196\n",
      "[3]\tvalidation-auc:0.99392\n",
      "[4]\tvalidation-auc:0.99430\n",
      "[5]\tvalidation-auc:0.99498\n"
     ]
    },
    {
     "name": "stderr",
     "output_type": "stream",
     "text": [
      "\u001b[32m[I 2023-02-15 09:39:53,710]\u001b[0m Trial 56 pruned. Trial was pruned at iteration 5.\u001b[0m\n"
     ]
    },
    {
     "name": "stdout",
     "output_type": "stream",
     "text": [
      "[0]\tvalidation-auc:0.94831\n",
      "[1]\tvalidation-auc:0.97142\n",
      "[2]\tvalidation-auc:0.98359\n",
      "[3]\tvalidation-auc:0.99170\n",
      "[4]\tvalidation-auc:0.99351\n",
      "[5]\tvalidation-auc:0.99482\n"
     ]
    },
    {
     "name": "stderr",
     "output_type": "stream",
     "text": [
      "\u001b[32m[I 2023-02-15 09:39:55,418]\u001b[0m Trial 57 pruned. Trial was pruned at iteration 5.\u001b[0m\n"
     ]
    },
    {
     "name": "stdout",
     "output_type": "stream",
     "text": [
      "[0]\tvalidation-auc:0.96060\n",
      "[1]\tvalidation-auc:0.99441\n",
      "[2]\tvalidation-auc:0.99790\n",
      "[3]\tvalidation-auc:0.99860\n",
      "[4]\tvalidation-auc:0.99906\n",
      "[5]\tvalidation-auc:0.99932\n",
      "[6]\tvalidation-auc:0.99940\n",
      "[7]\tvalidation-auc:0.99954\n",
      "[8]\tvalidation-auc:0.99963\n",
      "[9]\tvalidation-auc:0.99964\n"
     ]
    },
    {
     "name": "stderr",
     "output_type": "stream",
     "text": [
      "\u001b[32m[I 2023-02-15 09:39:58,219]\u001b[0m Trial 58 finished with value: 0.9948548425795101 and parameters: {'booster': 'gbtree', 'lambda': 0.00036722096328501574, 'alpha': 0.9896744344877844, 'subsample': 0.3499382244692055, 'colsample_bytree': 0.6594804196830027, 'scale_pos_weight': 1.0008021337862427, 'max_depth': 9, 'min_child_weight': 9, 'eta': 0.9433730820121731, 'gamma': 0.17494750598047457, 'grow_policy': 'lossguide'}. Best is trial 58 with value: 0.9948548425795101.\u001b[0m\n"
     ]
    },
    {
     "name": "stdout",
     "output_type": "stream",
     "text": [
      "[0]\tvalidation-auc:0.95951\n",
      "[1]\tvalidation-auc:0.99433\n",
      "[2]\tvalidation-auc:0.99726\n",
      "[3]\tvalidation-auc:0.99794\n",
      "[4]\tvalidation-auc:0.99855\n",
      "[5]\tvalidation-auc:0.99902\n",
      "[6]\tvalidation-auc:0.99912\n",
      "[7]\tvalidation-auc:0.99924\n",
      "[8]\tvalidation-auc:0.99940\n",
      "[9]\tvalidation-auc:0.99943\n"
     ]
    },
    {
     "name": "stderr",
     "output_type": "stream",
     "text": [
      "\u001b[32m[I 2023-02-15 09:40:01,382]\u001b[0m Trial 59 finished with value: 0.9916662243218854 and parameters: {'booster': 'gbtree', 'lambda': 0.0003674077137066186, 'alpha': 0.8655566728759625, 'subsample': 0.34679516620948586, 'colsample_bytree': 0.6700051876240133, 'scale_pos_weight': 1.814000610796259, 'max_depth': 9, 'min_child_weight': 8, 'eta': 0.3966046740929233, 'gamma': 0.18793323388974123, 'grow_policy': 'lossguide'}. Best is trial 58 with value: 0.9948548425795101.\u001b[0m\n"
     ]
    },
    {
     "name": "stdout",
     "output_type": "stream",
     "text": [
      "[0]\tvalidation-auc:0.95561\n",
      "[1]\tvalidation-auc:0.99430\n",
      "[2]\tvalidation-auc:0.99644\n",
      "[3]\tvalidation-auc:0.99732\n",
      "[4]\tvalidation-auc:0.99786\n",
      "[5]\tvalidation-auc:0.99883\n",
      "[6]\tvalidation-auc:0.99892\n",
      "[7]\tvalidation-auc:0.99906\n",
      "[8]\tvalidation-auc:0.99927\n",
      "[9]\tvalidation-auc:0.99932\n"
     ]
    },
    {
     "name": "stderr",
     "output_type": "stream",
     "text": [
      "\u001b[32m[I 2023-02-15 09:40:03,946]\u001b[0m Trial 60 finished with value: 0.9855919926247859 and parameters: {'booster': 'gbtree', 'lambda': 0.00011072325177288183, 'alpha': 0.9853244302576547, 'subsample': 0.3470942298944587, 'colsample_bytree': 0.6759780586298707, 'scale_pos_weight': 3.544537650005874, 'max_depth': 9, 'min_child_weight': 8, 'eta': 0.36707375660531427, 'gamma': 0.0836046257449063, 'grow_policy': 'lossguide'}. Best is trial 58 with value: 0.9948548425795101.\u001b[0m\n"
     ]
    },
    {
     "name": "stdout",
     "output_type": "stream",
     "text": [
      "[0]\tvalidation-auc:0.95639\n",
      "[1]\tvalidation-auc:0.99322\n",
      "[2]\tvalidation-auc:0.99708\n",
      "[3]\tvalidation-auc:0.99802\n",
      "[4]\tvalidation-auc:0.99867\n",
      "[5]\tvalidation-auc:0.99896\n",
      "[6]\tvalidation-auc:0.99909\n",
      "[7]\tvalidation-auc:0.99928\n",
      "[8]\tvalidation-auc:0.99938\n",
      "[9]\tvalidation-auc:0.99949\n"
     ]
    },
    {
     "name": "stderr",
     "output_type": "stream",
     "text": [
      "\u001b[32m[I 2023-02-15 09:40:06,621]\u001b[0m Trial 61 finished with value: 0.9933439829605963 and parameters: {'booster': 'gbtree', 'lambda': 0.0004134128805961781, 'alpha': 0.2104994859915426, 'subsample': 0.2282996271119495, 'colsample_bytree': 0.6410172102447496, 'scale_pos_weight': 1.0823180551826157, 'max_depth': 9, 'min_child_weight': 9, 'eta': 0.9183306059668164, 'gamma': 0.20212658446800186, 'grow_policy': 'lossguide'}. Best is trial 58 with value: 0.9948548425795101.\u001b[0m\n"
     ]
    },
    {
     "name": "stdout",
     "output_type": "stream",
     "text": [
      "[0]\tvalidation-auc:0.95846\n",
      "[1]\tvalidation-auc:0.99417\n",
      "[2]\tvalidation-auc:0.99717\n",
      "[3]\tvalidation-auc:0.99777\n",
      "[4]\tvalidation-auc:0.99839\n",
      "[5]\tvalidation-auc:0.99879\n",
      "[6]\tvalidation-auc:0.99884\n",
      "[7]\tvalidation-auc:0.99894\n",
      "[8]\tvalidation-auc:0.99913\n",
      "[9]\tvalidation-auc:0.99927\n"
     ]
    },
    {
     "name": "stderr",
     "output_type": "stream",
     "text": [
      "\u001b[32m[I 2023-02-15 09:40:09,387]\u001b[0m Trial 62 finished with value: 0.9897308687418315 and parameters: {'booster': 'gbtree', 'lambda': 0.0003576360526977298, 'alpha': 0.0695453328331877, 'subsample': 0.23166656054217896, 'colsample_bytree': 0.6472950910863773, 'scale_pos_weight': 1.0134955074952936, 'max_depth': 9, 'min_child_weight': 8, 'eta': 0.3795927891322239, 'gamma': 0.19888603193143392, 'grow_policy': 'lossguide'}. Best is trial 58 with value: 0.9948548425795101.\u001b[0m\n"
     ]
    },
    {
     "name": "stdout",
     "output_type": "stream",
     "text": [
      "[0]\tvalidation-auc:0.95801\n",
      "[1]\tvalidation-auc:0.99442\n",
      "[2]\tvalidation-auc:0.99685\n",
      "[3]\tvalidation-auc:0.99737\n",
      "[4]\tvalidation-auc:0.99810\n",
      "[5]\tvalidation-auc:0.99862\n",
      "[6]\tvalidation-auc:0.99873\n",
      "[7]\tvalidation-auc:0.99883\n",
      "[8]\tvalidation-auc:0.99907\n",
      "[9]\tvalidation-auc:0.99910\n"
     ]
    },
    {
     "name": "stderr",
     "output_type": "stream",
     "text": [
      "\u001b[32m[I 2023-02-15 09:40:11,990]\u001b[0m Trial 63 finished with value: 0.9870357579299719 and parameters: {'booster': 'gbtree', 'lambda': 0.0004622233496884877, 'alpha': 0.06265555530726771, 'subsample': 0.2213976370810261, 'colsample_bytree': 0.6442512156659421, 'scale_pos_weight': 1.575498876430399, 'max_depth': 9, 'min_child_weight': 8, 'eta': 0.2992252442422288, 'gamma': 0.14735607102958992, 'grow_policy': 'lossguide'}. Best is trial 58 with value: 0.9948548425795101.\u001b[0m\n"
     ]
    },
    {
     "name": "stdout",
     "output_type": "stream",
     "text": [
      "[0]\tvalidation-auc:0.95617\n",
      "[1]\tvalidation-auc:0.99369\n",
      "[2]\tvalidation-auc:0.99620\n",
      "[3]\tvalidation-auc:0.99681\n",
      "[4]\tvalidation-auc:0.99718\n",
      "[5]\tvalidation-auc:0.99760\n",
      "[6]\tvalidation-auc:0.99750\n",
      "[7]\tvalidation-auc:0.99772\n",
      "[8]\tvalidation-auc:0.99792\n",
      "[9]\tvalidation-auc:0.99794\n"
     ]
    },
    {
     "name": "stderr",
     "output_type": "stream",
     "text": [
      "\u001b[32m[I 2023-02-15 09:40:14,520]\u001b[0m Trial 64 pruned. Trial was pruned at iteration 9.\u001b[0m\n"
     ]
    },
    {
     "name": "stdout",
     "output_type": "stream",
     "text": [
      "[0]\tvalidation-auc:0.95797\n",
      "[1]\tvalidation-auc:0.99483\n",
      "[2]\tvalidation-auc:0.99701\n",
      "[3]\tvalidation-auc:0.99781\n",
      "[4]\tvalidation-auc:0.99829\n",
      "[5]\tvalidation-auc:0.99875\n",
      "[6]\tvalidation-auc:0.99892\n",
      "[7]\tvalidation-auc:0.99906\n",
      "[8]\tvalidation-auc:0.99927\n",
      "[9]\tvalidation-auc:0.99936\n"
     ]
    },
    {
     "name": "stderr",
     "output_type": "stream",
     "text": [
      "\u001b[32m[I 2023-02-15 09:40:20,938]\u001b[0m Trial 65 finished with value: 0.9901750483302879 and parameters: {'booster': 'gbtree', 'lambda': 0.00017604807703182424, 'alpha': 0.06320764385783104, 'subsample': 0.26711343358945344, 'colsample_bytree': 0.6938559412101104, 'scale_pos_weight': 2.3938819075919313, 'max_depth': 9, 'min_child_weight': 10, 'eta': 0.4357262532985246, 'gamma': 0.09204023213025679, 'grow_policy': 'lossguide'}. Best is trial 58 with value: 0.9948548425795101.\u001b[0m\n"
     ]
    },
    {
     "name": "stdout",
     "output_type": "stream",
     "text": [
      "[0]\tvalidation-auc:0.97250\n",
      "[1]\tvalidation-auc:0.99171\n",
      "[2]\tvalidation-auc:0.99238\n",
      "[3]\tvalidation-auc:0.99448\n",
      "[4]\tvalidation-auc:0.99503\n"
     ]
    },
    {
     "name": "stderr",
     "output_type": "stream",
     "text": [
      "\u001b[32m[I 2023-02-15 09:40:23,639]\u001b[0m Trial 66 pruned. Trial was pruned at iteration 5.\u001b[0m\n"
     ]
    },
    {
     "name": "stdout",
     "output_type": "stream",
     "text": [
      "[0]\tvalidation-auc:0.95564\n",
      "[1]\tvalidation-auc:0.99392\n",
      "[2]\tvalidation-auc:0.99672\n",
      "[3]\tvalidation-auc:0.99769\n",
      "[4]\tvalidation-auc:0.99836\n",
      "[5]\tvalidation-auc:0.99888\n",
      "[6]\tvalidation-auc:0.99909\n",
      "[7]\tvalidation-auc:0.99921\n",
      "[8]\tvalidation-auc:0.99937\n",
      "[9]\tvalidation-auc:0.99945\n"
     ]
    },
    {
     "name": "stderr",
     "output_type": "stream",
     "text": [
      "\u001b[32m[I 2023-02-15 09:40:26,686]\u001b[0m Trial 67 finished with value: 0.9843022797191765 and parameters: {'booster': 'gbtree', 'lambda': 4.720353742298059e-05, 'alpha': 0.1496488912046279, 'subsample': 0.2718130667933062, 'colsample_bytree': 0.6976932400063843, 'scale_pos_weight': 6.773726323519158, 'max_depth': 9, 'min_child_weight': 10, 'eta': 0.4975184951181388, 'gamma': 0.032965579104712234, 'grow_policy': 'lossguide'}. Best is trial 58 with value: 0.9948548425795101.\u001b[0m\n"
     ]
    },
    {
     "name": "stdout",
     "output_type": "stream",
     "text": [
      "[0]\tvalidation-auc:0.97545\n",
      "[1]\tvalidation-auc:0.99443\n",
      "[2]\tvalidation-auc:0.99564\n",
      "[3]\tvalidation-auc:0.99673\n",
      "[4]\tvalidation-auc:0.99694\n",
      "[5]\tvalidation-auc:0.99728\n",
      "[6]\tvalidation-auc:0.99749\n",
      "[7]\tvalidation-auc:0.99774\n"
     ]
    },
    {
     "name": "stderr",
     "output_type": "stream",
     "text": [
      "\u001b[32m[I 2023-02-15 09:40:36,681]\u001b[0m Trial 68 pruned. Trial was pruned at iteration 8.\u001b[0m\n"
     ]
    },
    {
     "name": "stdout",
     "output_type": "stream",
     "text": [
      "[0]\tvalidation-auc:0.98032\n",
      "[1]\tvalidation-auc:0.99642\n",
      "[2]\tvalidation-auc:0.99771\n",
      "[3]\tvalidation-auc:0.99848\n",
      "[4]\tvalidation-auc:0.99889\n",
      "[5]\tvalidation-auc:0.99914\n",
      "[6]\tvalidation-auc:0.99935\n",
      "[7]\tvalidation-auc:0.99943\n",
      "[8]\tvalidation-auc:0.99955\n",
      "[9]\tvalidation-auc:0.99961\n"
     ]
    },
    {
     "name": "stderr",
     "output_type": "stream",
     "text": [
      "\u001b[32m[I 2023-02-15 09:40:43,760]\u001b[0m Trial 69 finished with value: 0.988018579119603 and parameters: {'booster': 'gbtree', 'lambda': 0.0013501833592720353, 'alpha': 0.021888099048859275, 'subsample': 0.2890664517664848, 'colsample_bytree': 0.7029985880687625, 'scale_pos_weight': 6.576101205944342, 'max_depth': 9, 'min_child_weight': 9, 'eta': 0.48085589756213376, 'gamma': 0.017207520996140733, 'grow_policy': 'lossguide'}. Best is trial 58 with value: 0.9948548425795101.\u001b[0m\n"
     ]
    },
    {
     "name": "stdout",
     "output_type": "stream",
     "text": [
      "[0]\tvalidation-auc:0.95235\n",
      "[1]\tvalidation-auc:0.99094\n",
      "[2]\tvalidation-auc:0.99307\n",
      "[3]\tvalidation-auc:0.99540\n",
      "[4]\tvalidation-auc:0.99606\n",
      "[5]\tvalidation-auc:0.99674\n",
      "[6]\tvalidation-auc:0.99698\n"
     ]
    },
    {
     "name": "stderr",
     "output_type": "stream",
     "text": [
      "\u001b[32m[I 2023-02-15 09:40:51,134]\u001b[0m Trial 70 pruned. Trial was pruned at iteration 6.\u001b[0m\n"
     ]
    },
    {
     "name": "stdout",
     "output_type": "stream",
     "text": [
      "[0]\tvalidation-auc:0.95728\n",
      "[1]\tvalidation-auc:0.99421\n",
      "[2]\tvalidation-auc:0.99697\n",
      "[3]\tvalidation-auc:0.99786\n",
      "[4]\tvalidation-auc:0.99822\n",
      "[5]\tvalidation-auc:0.99877\n",
      "[6]\tvalidation-auc:0.99890\n",
      "[7]\tvalidation-auc:0.99909\n",
      "[8]\tvalidation-auc:0.99930\n",
      "[9]\tvalidation-auc:0.99940\n"
     ]
    },
    {
     "name": "stderr",
     "output_type": "stream",
     "text": [
      "\u001b[32m[I 2023-02-15 09:40:57,035]\u001b[0m Trial 71 finished with value: 0.9889685458056665 and parameters: {'booster': 'gbtree', 'lambda': 0.00031921552364253073, 'alpha': 0.08752260536872199, 'subsample': 0.23363745629527885, 'colsample_bytree': 0.6566130546335824, 'scale_pos_weight': 2.8275368102095797, 'max_depth': 9, 'min_child_weight': 7, 'eta': 0.4501609777787944, 'gamma': 0.17576915425814105, 'grow_policy': 'lossguide'}. Best is trial 58 with value: 0.9948548425795101.\u001b[0m\n"
     ]
    },
    {
     "name": "stdout",
     "output_type": "stream",
     "text": [
      "[0]\tvalidation-auc:0.95224\n",
      "[1]\tvalidation-auc:0.99272\n",
      "[2]\tvalidation-auc:0.99592\n",
      "[3]\tvalidation-auc:0.99684\n",
      "[4]\tvalidation-auc:0.99739\n",
      "[5]\tvalidation-auc:0.99796\n",
      "[6]\tvalidation-auc:0.99833\n",
      "[7]\tvalidation-auc:0.99864\n",
      "[8]\tvalidation-auc:0.99888\n",
      "[9]\tvalidation-auc:0.99909\n"
     ]
    },
    {
     "name": "stderr",
     "output_type": "stream",
     "text": [
      "\u001b[32m[I 2023-02-15 09:41:04,407]\u001b[0m Trial 72 finished with value: 0.9686312032894567 and parameters: {'booster': 'gbtree', 'lambda': 0.0007024975489572511, 'alpha': 0.0638580795141435, 'subsample': 0.20081985054654544, 'colsample_bytree': 0.6326988530034742, 'scale_pos_weight': 14.966372232385766, 'max_depth': 9, 'min_child_weight': 8, 'eta': 0.348637400236115, 'gamma': 0.45826027130686126, 'grow_policy': 'lossguide'}. Best is trial 58 with value: 0.9948548425795101.\u001b[0m\n"
     ]
    },
    {
     "name": "stdout",
     "output_type": "stream",
     "text": [
      "[0]\tvalidation-auc:0.95573\n",
      "[1]\tvalidation-auc:0.99322\n",
      "[2]\tvalidation-auc:0.99679\n",
      "[3]\tvalidation-auc:0.99772\n",
      "[4]\tvalidation-auc:0.99862\n",
      "[5]\tvalidation-auc:0.99892\n",
      "[6]\tvalidation-auc:0.99895\n",
      "[7]\tvalidation-auc:0.99923\n",
      "[8]\tvalidation-auc:0.99938\n",
      "[9]\tvalidation-auc:0.99946\n"
     ]
    },
    {
     "name": "stderr",
     "output_type": "stream",
     "text": [
      "\u001b[32m[I 2023-02-15 09:41:12,888]\u001b[0m Trial 73 finished with value: 0.9927356909076395 and parameters: {'booster': 'gbtree', 'lambda': 5.573663165082429e-05, 'alpha': 0.5546041029822116, 'subsample': 0.2280673779460086, 'colsample_bytree': 0.6294911748765739, 'scale_pos_weight': 1.2419284370763537, 'max_depth': 9, 'min_child_weight': 10, 'eta': 0.5608401099188114, 'gamma': 0.09030365338477087, 'grow_policy': 'lossguide'}. Best is trial 58 with value: 0.9948548425795101.\u001b[0m\n"
     ]
    },
    {
     "name": "stdout",
     "output_type": "stream",
     "text": [
      "[0]\tvalidation-auc:0.90342\n",
      "[1]\tvalidation-auc:0.95626\n",
      "[2]\tvalidation-auc:0.96863\n",
      "[3]\tvalidation-auc:0.97420\n",
      "[4]\tvalidation-auc:0.97553\n"
     ]
    },
    {
     "name": "stderr",
     "output_type": "stream",
     "text": [
      "\u001b[32m[I 2023-02-15 09:41:15,813]\u001b[0m Trial 74 pruned. Trial was pruned at iteration 5.\u001b[0m\n"
     ]
    },
    {
     "name": "stdout",
     "output_type": "stream",
     "text": [
      "[0]\tvalidation-auc:0.97489\n",
      "[1]\tvalidation-auc:0.99326\n",
      "[2]\tvalidation-auc:0.99458\n",
      "[3]\tvalidation-auc:0.99550\n",
      "[4]\tvalidation-auc:0.99629\n",
      "[5]\tvalidation-auc:0.99655\n"
     ]
    },
    {
     "name": "stderr",
     "output_type": "stream",
     "text": [
      "\u001b[32m[I 2023-02-15 09:41:22,080]\u001b[0m Trial 75 pruned. Trial was pruned at iteration 5.\u001b[0m\n"
     ]
    },
    {
     "name": "stdout",
     "output_type": "stream",
     "text": [
      "[0]\tvalidation-auc:0.94746\n",
      "[1]\tvalidation-auc:0.98753\n",
      "[2]\tvalidation-auc:0.99091\n",
      "[3]\tvalidation-auc:0.99302\n",
      "[4]\tvalidation-auc:0.99322\n",
      "[5]\tvalidation-auc:0.99421\n"
     ]
    },
    {
     "name": "stderr",
     "output_type": "stream",
     "text": [
      "\u001b[32m[I 2023-02-15 09:41:25,119]\u001b[0m Trial 76 pruned. Trial was pruned at iteration 5.\u001b[0m\n"
     ]
    },
    {
     "name": "stdout",
     "output_type": "stream",
     "text": [
      "[0]\tvalidation-auc:0.97817\n",
      "[1]\tvalidation-auc:0.99487\n",
      "[2]\tvalidation-auc:0.99718\n",
      "[3]\tvalidation-auc:0.99828\n",
      "[4]\tvalidation-auc:0.99891\n",
      "[5]\tvalidation-auc:0.99927\n",
      "[6]\tvalidation-auc:0.99940\n",
      "[7]\tvalidation-auc:0.99956\n",
      "[8]\tvalidation-auc:0.99958\n",
      "[9]\tvalidation-auc:0.99963\n"
     ]
    },
    {
     "name": "stderr",
     "output_type": "stream",
     "text": [
      "\u001b[32m[I 2023-02-15 09:41:31,503]\u001b[0m Trial 77 finished with value: 0.9925246527409607 and parameters: {'booster': 'gbtree', 'lambda': 0.0006264446940602288, 'alpha': 0.38192330426267834, 'subsample': 0.2636378577975027, 'colsample_bytree': 0.72085365512169, 'scale_pos_weight': 5.686200984688929, 'max_depth': 9, 'min_child_weight': 10, 'eta': 0.9143393204234753, 'gamma': 0.18774133127818368, 'grow_policy': 'lossguide'}. Best is trial 58 with value: 0.9948548425795101.\u001b[0m\n"
     ]
    },
    {
     "name": "stdout",
     "output_type": "stream",
     "text": [
      "[0]\tvalidation-auc:0.94580\n",
      "[1]\tvalidation-auc:0.94560\n",
      "[2]\tvalidation-auc:0.94560\n",
      "[3]\tvalidation-auc:0.94560\n",
      "[4]\tvalidation-auc:0.94558\n"
     ]
    },
    {
     "name": "stderr",
     "output_type": "stream",
     "text": [
      "\u001b[32m[I 2023-02-15 09:41:32,748]\u001b[0m Trial 78 pruned. Trial was pruned at iteration 5.\u001b[0m\n"
     ]
    },
    {
     "name": "stdout",
     "output_type": "stream",
     "text": [
      "[0]\tvalidation-auc:0.97585\n",
      "[1]\tvalidation-auc:0.99286\n",
      "[2]\tvalidation-auc:0.99624\n",
      "[3]\tvalidation-auc:0.99792\n",
      "[4]\tvalidation-auc:0.99891\n",
      "[5]\tvalidation-auc:0.99928\n",
      "[6]\tvalidation-auc:0.99939\n",
      "[7]\tvalidation-auc:0.99950\n",
      "[8]\tvalidation-auc:0.99955\n",
      "[9]\tvalidation-auc:0.99965\n"
     ]
    },
    {
     "name": "stderr",
     "output_type": "stream",
     "text": [
      "\u001b[32m[I 2023-02-15 09:41:42,276]\u001b[0m Trial 79 finished with value: 0.9917114636019385 and parameters: {'booster': 'gbtree', 'lambda': 0.001963173294342874, 'alpha': 0.6675799381545735, 'subsample': 0.3306355581792407, 'colsample_bytree': 0.7174931485246242, 'scale_pos_weight': 7.357169431787041, 'max_depth': 9, 'min_child_weight': 9, 'eta': 0.8050504668261179, 'gamma': 0.18946529325504352, 'grow_policy': 'lossguide'}. Best is trial 58 with value: 0.9948548425795101.\u001b[0m\n"
     ]
    },
    {
     "name": "stdout",
     "output_type": "stream",
     "text": [
      "[0]\tvalidation-auc:0.97222\n",
      "[1]\tvalidation-auc:0.99217\n",
      "[2]\tvalidation-auc:0.99557\n",
      "[3]\tvalidation-auc:0.99698\n",
      "[4]\tvalidation-auc:0.99854\n",
      "[5]\tvalidation-auc:0.99895\n",
      "[6]\tvalidation-auc:0.99923\n",
      "[7]\tvalidation-auc:0.99944\n",
      "[8]\tvalidation-auc:0.99960\n",
      "[9]\tvalidation-auc:0.99966\n"
     ]
    },
    {
     "name": "stderr",
     "output_type": "stream",
     "text": [
      "\u001b[32m[I 2023-02-15 09:41:47,936]\u001b[0m Trial 80 finished with value: 0.9862285067277564 and parameters: {'booster': 'gbtree', 'lambda': 0.0036009823102356683, 'alpha': 0.14037626972934406, 'subsample': 0.22165269279444494, 'colsample_bytree': 0.7246455792046136, 'scale_pos_weight': 24.371458712322234, 'max_depth': 9, 'min_child_weight': 9, 'eta': 0.7215447656630356, 'gamma': 0.046966504478966505, 'grow_policy': 'lossguide'}. Best is trial 58 with value: 0.9948548425795101.\u001b[0m\n"
     ]
    },
    {
     "name": "stdout",
     "output_type": "stream",
     "text": [
      "[0]\tvalidation-auc:0.95411\n",
      "[1]\tvalidation-auc:0.99204\n",
      "[2]\tvalidation-auc:0.99601\n",
      "[3]\tvalidation-auc:0.99787\n",
      "[4]\tvalidation-auc:0.99880\n",
      "[5]\tvalidation-auc:0.99928\n",
      "[6]\tvalidation-auc:0.99938\n",
      "[7]\tvalidation-auc:0.99953\n",
      "[8]\tvalidation-auc:0.99963\n",
      "[9]\tvalidation-auc:0.99970\n"
     ]
    },
    {
     "name": "stderr",
     "output_type": "stream",
     "text": [
      "\u001b[32m[I 2023-02-15 09:41:52,187]\u001b[0m Trial 81 finished with value: 0.9931052771148238 and parameters: {'booster': 'gbtree', 'lambda': 0.0015480377123871477, 'alpha': 0.6403864698324585, 'subsample': 0.2971561333865944, 'colsample_bytree': 0.6668144796104818, 'scale_pos_weight': 7.233514467129888, 'max_depth': 9, 'min_child_weight': 10, 'eta': 0.9905593334942179, 'gamma': 0.20654127223607763, 'grow_policy': 'lossguide'}. Best is trial 58 with value: 0.9948548425795101.\u001b[0m\n"
     ]
    },
    {
     "name": "stdout",
     "output_type": "stream",
     "text": [
      "[0]\tvalidation-auc:0.97751\n",
      "[1]\tvalidation-auc:0.99456\n",
      "[2]\tvalidation-auc:0.99702\n",
      "[3]\tvalidation-auc:0.99805\n",
      "[4]\tvalidation-auc:0.99882\n",
      "[5]\tvalidation-auc:0.99926\n",
      "[6]\tvalidation-auc:0.99942\n",
      "[7]\tvalidation-auc:0.99954\n",
      "[8]\tvalidation-auc:0.99962\n",
      "[9]\tvalidation-auc:0.99970\n"
     ]
    },
    {
     "name": "stderr",
     "output_type": "stream",
     "text": [
      "\u001b[32m[I 2023-02-15 09:41:59,412]\u001b[0m Trial 82 finished with value: 0.9926821508113267 and parameters: {'booster': 'gbtree', 'lambda': 0.0015289243331256495, 'alpha': 0.24999123659223177, 'subsample': 0.2944648863018352, 'colsample_bytree': 0.7060802140924498, 'scale_pos_weight': 7.239823009905308, 'max_depth': 9, 'min_child_weight': 10, 'eta': 0.970677892558576, 'gamma': 0.48461380196487447, 'grow_policy': 'lossguide'}. Best is trial 58 with value: 0.9948548425795101.\u001b[0m\n"
     ]
    },
    {
     "name": "stdout",
     "output_type": "stream",
     "text": [
      "[0]\tvalidation-auc:0.97249\n",
      "[1]\tvalidation-auc:0.99218\n",
      "[2]\tvalidation-auc:0.99339\n",
      "[3]\tvalidation-auc:0.99573\n",
      "[4]\tvalidation-auc:0.99702\n"
     ]
    },
    {
     "name": "stderr",
     "output_type": "stream",
     "text": [
      "\u001b[32m[I 2023-02-15 09:42:02,976]\u001b[0m Trial 83 pruned. Trial was pruned at iteration 5.\u001b[0m\n"
     ]
    },
    {
     "name": "stdout",
     "output_type": "stream",
     "text": [
      "[0]\tvalidation-auc:0.95184\n",
      "[1]\tvalidation-auc:0.99263\n",
      "[2]\tvalidation-auc:0.99575\n",
      "[3]\tvalidation-auc:0.99722\n",
      "[4]\tvalidation-auc:0.99783\n",
      "[5]\tvalidation-auc:0.99879\n",
      "[6]\tvalidation-auc:0.99905\n",
      "[7]\tvalidation-auc:0.99925\n",
      "[8]\tvalidation-auc:0.99941\n",
      "[9]\tvalidation-auc:0.99951\n"
     ]
    },
    {
     "name": "stderr",
     "output_type": "stream",
     "text": [
      "\u001b[32m[I 2023-02-15 09:42:07,520]\u001b[0m Trial 84 finished with value: 0.9835850295469468 and parameters: {'booster': 'gbtree', 'lambda': 0.0011235752867322037, 'alpha': 0.35359030659349655, 'subsample': 0.2478686809661158, 'colsample_bytree': 0.660303162941513, 'scale_pos_weight': 12.094066742331798, 'max_depth': 9, 'min_child_weight': 10, 'eta': 0.5966654500595793, 'gamma': 0.27565492016133597, 'grow_policy': 'lossguide'}. Best is trial 58 with value: 0.9948548425795101.\u001b[0m\n"
     ]
    },
    {
     "name": "stdout",
     "output_type": "stream",
     "text": [
      "[0]\tvalidation-auc:0.94590\n",
      "[1]\tvalidation-auc:0.94647\n",
      "[2]\tvalidation-auc:0.94684\n",
      "[3]\tvalidation-auc:0.94684\n",
      "[4]\tvalidation-auc:0.94691\n"
     ]
    },
    {
     "name": "stderr",
     "output_type": "stream",
     "text": [
      "\u001b[32m[I 2023-02-15 09:42:08,557]\u001b[0m Trial 85 pruned. Trial was pruned at iteration 5.\u001b[0m\n"
     ]
    },
    {
     "name": "stdout",
     "output_type": "stream",
     "text": [
      "[0]\tvalidation-auc:0.95032\n",
      "[1]\tvalidation-auc:0.99124\n",
      "[2]\tvalidation-auc:0.99310\n",
      "[3]\tvalidation-auc:0.99533\n",
      "[4]\tvalidation-auc:0.99552\n"
     ]
    },
    {
     "name": "stderr",
     "output_type": "stream",
     "text": [
      "\u001b[32m[I 2023-02-15 09:42:10,844]\u001b[0m Trial 86 pruned. Trial was pruned at iteration 5.\u001b[0m\n"
     ]
    },
    {
     "name": "stdout",
     "output_type": "stream",
     "text": [
      "[0]\tvalidation-auc:0.95185\n",
      "[1]\tvalidation-auc:0.99219\n",
      "[2]\tvalidation-auc:0.99584\n",
      "[3]\tvalidation-auc:0.99663\n",
      "[4]\tvalidation-auc:0.99813\n",
      "[5]\tvalidation-auc:0.99860\n",
      "[6]\tvalidation-auc:0.99895\n",
      "[7]\tvalidation-auc:0.99933\n",
      "[8]\tvalidation-auc:0.99949\n",
      "[9]\tvalidation-auc:0.99957\n"
     ]
    },
    {
     "name": "stderr",
     "output_type": "stream",
     "text": [
      "\u001b[32m[I 2023-02-15 09:42:14,460]\u001b[0m Trial 87 finished with value: 0.9885955649419219 and parameters: {'booster': 'gbtree', 'lambda': 0.003647239650521996, 'alpha': 0.10973379467471403, 'subsample': 0.21748354665756825, 'colsample_bytree': 0.65190483090884, 'scale_pos_weight': 20.0500701137007, 'max_depth': 9, 'min_child_weight': 10, 'eta': 0.9922038487911484, 'gamma': 0.5809181252334535, 'grow_policy': 'depthwise'}. Best is trial 58 with value: 0.9948548425795101.\u001b[0m\n"
     ]
    },
    {
     "name": "stdout",
     "output_type": "stream",
     "text": [
      "[0]\tvalidation-auc:0.95233\n",
      "[1]\tvalidation-auc:0.98050\n",
      "[2]\tvalidation-auc:0.99015\n",
      "[3]\tvalidation-auc:0.99528\n",
      "[4]\tvalidation-auc:0.99806\n",
      "[5]\tvalidation-auc:0.99883\n",
      "[6]\tvalidation-auc:0.99914\n",
      "[7]\tvalidation-auc:0.99931\n",
      "[8]\tvalidation-auc:0.99961\n",
      "[9]\tvalidation-auc:0.99965\n"
     ]
    },
    {
     "name": "stderr",
     "output_type": "stream",
     "text": [
      "\u001b[32m[I 2023-02-15 09:42:19,040]\u001b[0m Trial 88 finished with value: 0.9849529120850213 and parameters: {'booster': 'gbtree', 'lambda': 0.0008602346457417155, 'alpha': 0.03458632266903698, 'subsample': 0.2877373417377411, 'colsample_bytree': 0.5957184911883507, 'scale_pos_weight': 9.260700647439561, 'max_depth': 9, 'min_child_weight': 6, 'eta': 0.6204679964257134, 'gamma': 0.28704941317820726, 'grow_policy': 'lossguide'}. Best is trial 58 with value: 0.9948548425795101.\u001b[0m\n"
     ]
    },
    {
     "name": "stdout",
     "output_type": "stream",
     "text": [
      "[0]\tvalidation-auc:0.94769\n",
      "[1]\tvalidation-auc:0.98940\n",
      "[2]\tvalidation-auc:0.99263\n",
      "[3]\tvalidation-auc:0.99492\n",
      "[4]\tvalidation-auc:0.99576\n",
      "[5]\tvalidation-auc:0.99609\n"
     ]
    },
    {
     "name": "stderr",
     "output_type": "stream",
     "text": [
      "\u001b[32m[I 2023-02-15 09:42:21,657]\u001b[0m Trial 89 pruned. Trial was pruned at iteration 5.\u001b[0m\n"
     ]
    },
    {
     "name": "stdout",
     "output_type": "stream",
     "text": [
      "[0]\tvalidation-auc:0.97159\n",
      "[1]\tvalidation-auc:0.99020\n",
      "[2]\tvalidation-auc:0.99133\n",
      "[3]\tvalidation-auc:0.99326\n",
      "[4]\tvalidation-auc:0.99383\n",
      "[5]\tvalidation-auc:0.99456\n"
     ]
    },
    {
     "name": "stderr",
     "output_type": "stream",
     "text": [
      "\u001b[32m[I 2023-02-15 09:42:24,031]\u001b[0m Trial 90 pruned. Trial was pruned at iteration 5.\u001b[0m\n"
     ]
    },
    {
     "name": "stdout",
     "output_type": "stream",
     "text": [
      "[0]\tvalidation-auc:0.97583\n",
      "[1]\tvalidation-auc:0.99341\n",
      "[2]\tvalidation-auc:0.99602\n",
      "[3]\tvalidation-auc:0.99760\n",
      "[4]\tvalidation-auc:0.99888\n",
      "[5]\tvalidation-auc:0.99923\n",
      "[6]\tvalidation-auc:0.99951\n",
      "[7]\tvalidation-auc:0.99960\n",
      "[8]\tvalidation-auc:0.99968\n",
      "[9]\tvalidation-auc:0.99971\n"
     ]
    },
    {
     "name": "stderr",
     "output_type": "stream",
     "text": [
      "\u001b[32m[I 2023-02-15 09:42:28,010]\u001b[0m Trial 91 finished with value: 0.9933142311365807 and parameters: {'booster': 'gbtree', 'lambda': 0.001540319176651435, 'alpha': 0.6620020486091536, 'subsample': 0.32252781426067295, 'colsample_bytree': 0.7123888145424918, 'scale_pos_weight': 8.072920394960402, 'max_depth': 9, 'min_child_weight': 9, 'eta': 0.9562512859341237, 'gamma': 0.2026037796595149, 'grow_policy': 'lossguide'}. Best is trial 58 with value: 0.9948548425795101.\u001b[0m\n"
     ]
    },
    {
     "name": "stdout",
     "output_type": "stream",
     "text": [
      "[0]\tvalidation-auc:0.97805\n",
      "[1]\tvalidation-auc:0.99483\n",
      "[2]\tvalidation-auc:0.99753\n",
      "[3]\tvalidation-auc:0.99860\n",
      "[4]\tvalidation-auc:0.99901\n",
      "[5]\tvalidation-auc:0.99944\n",
      "[6]\tvalidation-auc:0.99952\n",
      "[7]\tvalidation-auc:0.99969\n",
      "[8]\tvalidation-auc:0.99976\n",
      "[9]\tvalidation-auc:0.99977\n"
     ]
    },
    {
     "name": "stderr",
     "output_type": "stream",
     "text": [
      "\u001b[32m[I 2023-02-15 09:42:31,892]\u001b[0m Trial 92 finished with value: 0.9940011679142113 and parameters: {'booster': 'gbtree', 'lambda': 0.0015022343865826596, 'alpha': 0.39553868015206917, 'subsample': 0.3220122756107711, 'colsample_bytree': 0.7649425830156249, 'scale_pos_weight': 6.228626890083426, 'max_depth': 9, 'min_child_weight': 9, 'eta': 0.98074872707452, 'gamma': 0.353012339566217, 'grow_policy': 'lossguide'}. Best is trial 58 with value: 0.9948548425795101.\u001b[0m\n"
     ]
    },
    {
     "name": "stdout",
     "output_type": "stream",
     "text": [
      "[0]\tvalidation-auc:0.97842\n",
      "[1]\tvalidation-auc:0.99593\n",
      "[2]\tvalidation-auc:0.99765\n",
      "[3]\tvalidation-auc:0.99861\n",
      "[4]\tvalidation-auc:0.99897\n",
      "[5]\tvalidation-auc:0.99928\n",
      "[6]\tvalidation-auc:0.99952\n",
      "[7]\tvalidation-auc:0.99959\n",
      "[8]\tvalidation-auc:0.99962\n",
      "[9]\tvalidation-auc:0.99970\n"
     ]
    },
    {
     "name": "stderr",
     "output_type": "stream",
     "text": [
      "\u001b[32m[I 2023-02-15 09:42:35,488]\u001b[0m Trial 93 finished with value: 0.9921827384264781 and parameters: {'booster': 'gbtree', 'lambda': 0.003536294144327346, 'alpha': 0.3758687820907079, 'subsample': 0.3632493329664966, 'colsample_bytree': 0.7648972821736579, 'scale_pos_weight': 5.4933114558550455, 'max_depth': 9, 'min_child_weight': 9, 'eta': 0.6026338029646423, 'gamma': 0.43292812011391446, 'grow_policy': 'lossguide'}. Best is trial 58 with value: 0.9948548425795101.\u001b[0m\n"
     ]
    },
    {
     "name": "stdout",
     "output_type": "stream",
     "text": [
      "[0]\tvalidation-auc:0.97459\n",
      "[1]\tvalidation-auc:0.99292\n",
      "[2]\tvalidation-auc:0.99379\n",
      "[3]\tvalidation-auc:0.99521\n",
      "[4]\tvalidation-auc:0.99647\n",
      "[5]\tvalidation-auc:0.99648\n"
     ]
    },
    {
     "name": "stderr",
     "output_type": "stream",
     "text": [
      "\u001b[32m[I 2023-02-15 09:42:38,201]\u001b[0m Trial 94 pruned. Trial was pruned at iteration 5.\u001b[0m\n"
     ]
    },
    {
     "name": "stdout",
     "output_type": "stream",
     "text": [
      "[0]\tvalidation-auc:0.97582\n",
      "[1]\tvalidation-auc:0.99417\n",
      "[2]\tvalidation-auc:0.99700\n",
      "[3]\tvalidation-auc:0.99817\n",
      "[4]\tvalidation-auc:0.99861\n",
      "[5]\tvalidation-auc:0.99911\n",
      "[6]\tvalidation-auc:0.99923\n",
      "[7]\tvalidation-auc:0.99938\n",
      "[8]\tvalidation-auc:0.99948\n",
      "[9]\tvalidation-auc:0.99957\n"
     ]
    },
    {
     "name": "stderr",
     "output_type": "stream",
     "text": [
      "\u001b[32m[I 2023-02-15 09:42:41,827]\u001b[0m Trial 95 finished with value: 0.9922365597095996 and parameters: {'booster': 'gbtree', 'lambda': 0.001003038585211443, 'alpha': 0.13602745005846734, 'subsample': 0.30337540304204746, 'colsample_bytree': 0.7811533551900142, 'scale_pos_weight': 12.32297105909546, 'max_depth': 9, 'min_child_weight': 9, 'eta': 0.983909219530446, 'gamma': 0.5965595457443591, 'grow_policy': 'lossguide'}. Best is trial 58 with value: 0.9948548425795101.\u001b[0m\n"
     ]
    },
    {
     "name": "stdout",
     "output_type": "stream",
     "text": [
      "[0]\tvalidation-auc:0.50000\n",
      "[1]\tvalidation-auc:0.50000\n",
      "[2]\tvalidation-auc:0.50000\n",
      "[3]\tvalidation-auc:0.50000\n",
      "[4]\tvalidation-auc:0.50000\n",
      "[5]\tvalidation-auc:0.50000\n"
     ]
    },
    {
     "name": "stderr",
     "output_type": "stream",
     "text": [
      "\u001b[32m[I 2023-02-15 09:42:42,418]\u001b[0m Trial 96 pruned. Trial was pruned at iteration 5.\u001b[0m\n"
     ]
    },
    {
     "name": "stdout",
     "output_type": "stream",
     "text": [
      "[0]\tvalidation-auc:0.95857\n",
      "[1]\tvalidation-auc:0.99424\n",
      "[2]\tvalidation-auc:0.99723\n",
      "[3]\tvalidation-auc:0.99791\n",
      "[4]\tvalidation-auc:0.99860\n",
      "[5]\tvalidation-auc:0.99891\n",
      "[6]\tvalidation-auc:0.99909\n",
      "[7]\tvalidation-auc:0.99925\n",
      "[8]\tvalidation-auc:0.99944\n",
      "[9]\tvalidation-auc:0.99948\n"
     ]
    },
    {
     "name": "stderr",
     "output_type": "stream",
     "text": [
      "\u001b[32m[I 2023-02-15 09:42:45,117]\u001b[0m Trial 97 finished with value: 0.993050193050193 and parameters: {'booster': 'gbtree', 'lambda': 0.0005008145276627144, 'alpha': 0.3611245240820874, 'subsample': 0.2836763964972815, 'colsample_bytree': 0.6990584695474602, 'scale_pos_weight': 1.0661026153550441, 'max_depth': 9, 'min_child_weight': 10, 'eta': 0.5314241120861577, 'gamma': 0.3744909052226972, 'grow_policy': 'lossguide'}. Best is trial 58 with value: 0.9948548425795101.\u001b[0m\n"
     ]
    },
    {
     "name": "stdout",
     "output_type": "stream",
     "text": [
      "[0]\tvalidation-auc:0.94671\n",
      "[1]\tvalidation-auc:0.98839\n",
      "[2]\tvalidation-auc:0.99213\n",
      "[3]\tvalidation-auc:0.99326\n",
      "[4]\tvalidation-auc:0.99518\n"
     ]
    },
    {
     "name": "stderr",
     "output_type": "stream",
     "text": [
      "\u001b[32m[I 2023-02-15 09:42:46,714]\u001b[0m Trial 98 pruned. Trial was pruned at iteration 5.\u001b[0m\n"
     ]
    },
    {
     "name": "stdout",
     "output_type": "stream",
     "text": [
      "[0]\tvalidation-auc:0.97257\n",
      "[1]\tvalidation-auc:0.99152\n",
      "[2]\tvalidation-auc:0.99236\n",
      "[3]\tvalidation-auc:0.99451\n",
      "[4]\tvalidation-auc:0.99513\n"
     ]
    },
    {
     "name": "stderr",
     "output_type": "stream",
     "text": [
      "\u001b[32m[I 2023-02-15 09:42:48,438]\u001b[0m Trial 99 pruned. Trial was pruned at iteration 5.\u001b[0m\n"
     ]
    }
   ],
   "source": [
    "study.optimize(objective, n_trials=100)"
   ]
  },
  {
   "cell_type": "code",
   "execution_count": 114,
   "metadata": {},
   "outputs": [
    {
     "name": "stdout",
     "output_type": "stream",
     "text": [
      "Number of finished trials:  100\n",
      "Best trial:\n",
      "  Value: 0.9948548425795101\n",
      "  Params: \n",
      "    booster: gbtree\n",
      "    lambda: 0.00036722096328501574\n",
      "    alpha: 0.9896744344877844\n",
      "    subsample: 0.3499382244692055\n",
      "    colsample_bytree: 0.6594804196830027\n",
      "    scale_pos_weight: 1.0008021337862427\n",
      "    max_depth: 9\n",
      "    min_child_weight: 9\n",
      "    eta: 0.9433730820121731\n",
      "    gamma: 0.17494750598047457\n",
      "    grow_policy: lossguide\n"
     ]
    }
   ],
   "source": [
    "print(\"Number of finished trials: \", len(study.trials))\n",
    "print(\"Best trial:\")\n",
    "trial = study.best_trial\n",
    "\n",
    "print(\"  Value: {}\".format(trial.value))\n",
    "print(\"  Params: \")\n",
    "for key, value in trial.params.items():\n",
    "    print(\"    {}: {}\".format(key, value))"
   ]
  },
  {
   "attachments": {},
   "cell_type": "markdown",
   "metadata": {},
   "source": [
    "Salvando os melhores parâmetros"
   ]
  },
  {
   "cell_type": "code",
   "execution_count": 115,
   "metadata": {},
   "outputs": [],
   "source": [
    "param = {'booster': 'gbtree',\n",
    "    'lambda': 0.00036722096328501574,\n",
    "    'alpha': 0.9896744344877844,\n",
    "    'subsample': 0.3499382244692055,\n",
    "    'colsample_bytree': 0.6594804196830027,\n",
    "    'scale_pos_weight': 1.0008021337862427,\n",
    "    'max_depth': 9,\n",
    "    'min_child_weight': 9,\n",
    "    'eta': 0.9433730820121731,\n",
    "    'gamma': 0.17494750598047457,\n",
    "    'grow_policy': 'lossguide',\n",
    "    \"verbosity\": 0,\n",
    "    \"objective\": \"binary:logistic\",\n",
    "    \"tree_method\": \"auto\"\n",
    "    }"
   ]
  },
  {
   "attachments": {},
   "cell_type": "markdown",
   "metadata": {},
   "source": [
    "# XGBoost Model"
   ]
  },
  {
   "cell_type": "code",
   "execution_count": 127,
   "metadata": {},
   "outputs": [],
   "source": [
    "xgb_model = XGBClassifier(**param)\n",
    "xgb_model = xgb_model.fit(X_train, y_train)\n",
    "probabilities = xgb_model.predict_proba(X_test)\n",
    "predict = xgb_model.predict(X_test)"
   ]
  },
  {
   "cell_type": "code",
   "execution_count": 128,
   "metadata": {},
   "outputs": [],
   "source": [
    "pickle.dump(xgb_model,open('xgb_model.pkl','wb'))"
   ]
  },
  {
   "attachments": {},
   "cell_type": "markdown",
   "metadata": {},
   "source": [
    "# XGBoost Model Evaluation"
   ]
  },
  {
   "cell_type": "code",
   "execution_count": 129,
   "metadata": {},
   "outputs": [
    {
     "data": {
      "text/plain": [
       "Text(0.5, 1.0, 'XGBoost Model')"
      ]
     },
     "execution_count": 129,
     "metadata": {},
     "output_type": "execute_result"
    },
    {
     "data": {
      "image/png": "[encoded data removed]",
      "text/plain": [
       "<Figure size 864x648 with 2 Axes>"
      ]
     },
     "metadata": {
      "needs_background": "light"
     },
     "output_type": "display_data"
    }
   ],
   "source": [
    "cm = metrics.confusion_matrix(y_test, predict)\n",
    "cm = pd.DataFrame(cm)\n",
    "\n",
    "plt.figure(figsize = (12,9))\n",
    "sns_plot = sns.heatmap(cm, annot=True,fmt='g', annot_kws={\"fontsize\":18})\n",
    "plt.ylabel(\"Actual\", fontsize=18)\n",
    "plt.xlabel(\"Predicted\",fontsize=18)\n",
    "plt.title(\"XGBoost Model\",fontsize=20)\n"
   ]
  },
  {
   "cell_type": "code",
   "execution_count": 130,
   "metadata": {},
   "outputs": [
    {
     "name": "stdout",
     "output_type": "stream",
     "text": [
      "              precision    recall  f1-score   support\n",
      "\n",
      "           0       1.00      1.00      1.00     17813\n",
      "           1       1.00      1.00      1.00     18731\n",
      "\n",
      "    accuracy                           1.00     36544\n",
      "   macro avg       1.00      1.00      1.00     36544\n",
      "weighted avg       1.00      1.00      1.00     36544\n",
      "\n"
     ]
    }
   ],
   "source": [
    "print(metrics.classification_report(y_test, predict))"
   ]
  },
  {
   "cell_type": "code",
   "execution_count": 131,
   "metadata": {},
   "outputs": [],
   "source": [
    "tpr = metrics.recall_score(y_test,predict)\n",
    "tnr = metrics.recall_score(y_test,predict, pos_label=0)\n",
    "fpr = 1-tnr\n",
    "fnr = 1-tpr"
   ]
  },
  {
   "cell_type": "code",
   "execution_count": 132,
   "metadata": {},
   "outputs": [
    {
     "name": "stdout",
     "output_type": "stream",
     "text": [
      "XGBoost\n",
      "False Positive Rate: 0.00269466120249251\n",
      "False Negative Rate: 0.0005872617585820361\n"
     ]
    }
   ],
   "source": [
    "print('XGBoost')\n",
    "print('False Positive Rate:',fpr)\n",
    "print('False Negative Rate:',fnr)"
   ]
  },
  {
   "cell_type": "code",
   "execution_count": 133,
   "metadata": {},
   "outputs": [
    {
     "data": {
      "text/plain": [
       "<matplotlib.legend.Legend at 0x2264b52ee50>"
      ]
     },
     "execution_count": 133,
     "metadata": {},
     "output_type": "execute_result"
    },
    {
     "data": {
      "image/png": "[encoded data removed]",
      "text/plain": [
       "<Figure size 432x288 with 1 Axes>"
      ]
     },
     "metadata": {
      "needs_background": "light"
     },
     "output_type": "display_data"
    }
   ],
   "source": [
    "fpr_xgb_roc,tpr_xgb_roc, _ = metrics.roc_curve(y_test,predict)\n",
    "auc_xgb = metrics.roc_auc_score(y_test, predict)\n",
    "plt.plot(fpr_xgb_roc,tpr_xgb_roc, label='AUC: '+str(auc_xgb))\n",
    "plt.title('ROC Curve XGBoost')\n",
    "plt.ylabel('True Positive Rate')\n",
    "plt.xlabel('False Positive Rate')\n",
    "plt.legend(loc=4)"
   ]
  },
  {
   "attachments": {},
   "cell_type": "markdown",
   "metadata": {},
   "source": [
    "# Deploy do modelo\n",
    "\n",
    "O modelo pode ser publicado por meio da criação de um script de scoring para predizer valores usando o modelo em pickle (.pkl). O script pode ser publicado em um endpoint para uso."
   ]
  },
  {
   "attachments": {},
   "cell_type": "markdown",
   "metadata": {},
   "source": [
    "# Melhorias\n",
    "\n",
    "Por mais que o modelo tenha apresentado ótimos resultados, ainda existe a possibilidade de melhorá-lo. O teste de outros modelos em comparação ao XGBoost é válido e altamente recomendado, como o LightGBM, RandomForest, KNN, etc.\\\n",
    "Sobre o processamento dos dados, pode-se testar novas maneiras de realizar o undersampling e/ou oversampling do modelo, já que a aplicação do SMOTEENN duplicou as observações, o que não pode ser aplicado em cenários onde já existem muitas observações. \\\n",
    "Também é válido estudar a possibilidade de utilizar métodos de seleção de variáveis de \n",
    "redução de dimensão para tornar os dados mais enxutos e otimizar o modelo.\n",
    "Além disso, o tempo de execução do código poderia ser melhorado através do uso do \n",
    "Hadoop e Spark.\\\n",
    "O uso de recursos automatizados em serviços de nuvem (como o Azure ML e o AWS \n",
    "SageMaker) podem ser estudados visando otimizar o processo de criação, avaliação e \n",
    "deploy do modelo.\\\n",
    "Também se pode avaliar o uso de modelos de série temporal e deep learning, como o LSTM, Autoencoders e outros métodos de anomaly detection."
   ]
  }
 ],
 "metadata": {
  "kernelspec": {
   "display_name": "base",
   "language": "python",
   "name": "python3"
  },
  "language_info": {
   "codemirror_mode": {
    "name": "ipython",
    "version": 3
   },
   "file_extension": ".py",
   "mimetype": "text/x-python",
   "name": "python",
   "nbconvert_exporter": "python",
   "pygments_lexer": "ipython3",
   "version": "3.8.8"
  },
  "orig_nbformat": 4,
  "vscode": {
   "interpreter": {
    "hash": "b4f8e0834de7f33a03b9998d38fc6cfe04d86141ea487480b718d0030c58aa79"
   }
  }
 },
 "nbformat": 4,
 "nbformat_minor": 2
}
